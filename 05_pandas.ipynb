{
 "cells": [
  {
   "cell_type": "markdown",
   "metadata": {
    "slideshow": {
     "slide_type": "slide"
    }
   },
   "source": [
    "![image](./images/pandas.png)\n",
    "\n",
    "Pandas est le package de prédilection pour traiter des données structurées.\n",
    "\n",
    "Pandas est basé sur 2 structures extrêmement liées les Series et le DataFrame.\n",
    "\n",
    "Ces deux structures permettent de traiter des données sous forme de tableaux indexés.\n",
    "\n",
    "Les classes de Pandas utilisent des classes de Numpy, il est donc possible d'utiliser les fonctions universelles de Numpy sur les objets Pandas."
   ]
  },
  {
   "cell_type": "code",
   "execution_count": 1,
   "metadata": {
    "slideshow": {
     "slide_type": "subslide"
    }
   },
   "outputs": [],
   "source": [
    "# on importe pandas avec :\n",
    "import pandas as pd\n",
    "import numpy as np\n",
    "%matplotlib inline"
   ]
  },
  {
   "cell_type": "markdown",
   "metadata": {
    "slideshow": {
     "slide_type": "slide"
    }
   },
   "source": [
    "# Les Series de Pandas\n",
    "\n",
    "- Les Series sont indexées, c'est leur avantage sur les arrays de NumPy\n",
    "- On peut utiliser les fonctions `.values` et `.index` pour voir les différentes parties de chaque Series\n",
    "- On définit une Series par `pd.Series([,], index=['','',])`\n",
    "- On peut appeler un élément avec `ma_serie['France']`\n",
    "- On peut aussi faire des conditions :\n",
    "```python\n",
    "ma_serie[ma_serie>5000000]\n",
    "```\n",
    "```\n",
    "'France' in ma_serie\n",
    "```\n",
    "- Les objets Series peuvent être transformés en dictionnaires en utilisant :\n",
    "`.to_dict()`"
   ]
  },
  {
   "cell_type": "markdown",
   "metadata": {
    "slideshow": {
     "slide_type": "subslide"
    }
   },
   "source": [
    "**Exercice :**\n",
    "    \n",
    "Définir un objet Series comprenant la population de 5 pays puis afficher les pays ayant une population > 50’000’000.\n"
   ]
  },
  {
   "cell_type": "code",
   "execution_count": 2,
   "metadata": {},
   "outputs": [],
   "source": [
    "ser_pop = pd.Series([70,8,300,1200],index=[\"France\",\"Suisse\", \"USA\", \"Chine\"])"
   ]
  },
  {
   "cell_type": "code",
   "execution_count": 3,
   "metadata": {},
   "outputs": [
    {
     "data": {
      "text/plain": [
       "France      70\n",
       "Suisse       8\n",
       "USA        300\n",
       "Chine     1200\n",
       "dtype: int64"
      ]
     },
     "execution_count": 3,
     "metadata": {},
     "output_type": "execute_result"
    }
   ],
   "source": [
    "ser_pop"
   ]
  },
  {
   "cell_type": "code",
   "execution_count": 4,
   "metadata": {},
   "outputs": [
    {
     "data": {
      "text/plain": [
       "France     70\n",
       "USA       300\n",
       "dtype: int64"
      ]
     },
     "execution_count": 4,
     "metadata": {},
     "output_type": "execute_result"
    }
   ],
   "source": [
    "ser_pop[[\"France\",\"USA\"]]"
   ]
  },
  {
   "cell_type": "code",
   "execution_count": 5,
   "metadata": {},
   "outputs": [
    {
     "data": {
      "text/plain": [
       "France    70\n",
       "Suisse     8\n",
       "dtype: int64"
      ]
     },
     "execution_count": 5,
     "metadata": {},
     "output_type": "execute_result"
    }
   ],
   "source": [
    "ser_pop.iloc[0:2]"
   ]
  },
  {
   "cell_type": "markdown",
   "metadata": {
    "slideshow": {
     "slide_type": "subslide"
    }
   },
   "source": [
    "# D'autres opérations sur les objets series\n",
    "\n",
    "- Pour définir le nom de la Series, on utilise `.name`\n",
    "- Pour définir le titre de la colonne des observations, on utilise `.index.name`"
   ]
  },
  {
   "cell_type": "markdown",
   "metadata": {
    "slideshow": {
     "slide_type": "subslide"
    }
   },
   "source": [
    "**Exercice :**\n",
    "    \n",
    "Définir les noms de l’objet et de la colonne des pays pour la Series précédente\n"
   ]
  },
  {
   "cell_type": "code",
   "execution_count": 6,
   "metadata": {},
   "outputs": [
    {
     "data": {
      "text/plain": [
       "Pays\n",
       "France      70\n",
       "Suisse       8\n",
       "USA        300\n",
       "Chine     1200\n",
       "Name: Populations, dtype: int64"
      ]
     },
     "execution_count": 6,
     "metadata": {},
     "output_type": "execute_result"
    }
   ],
   "source": [
    "ser_pop.name = \"Populations\"\n",
    "ser_pop.index.name = \"Pays\"\n",
    "ser_pop"
   ]
  },
  {
   "cell_type": "markdown",
   "metadata": {
    "slideshow": {
     "slide_type": "subslide"
    }
   },
   "source": [
    "# Les données manquantes\n",
    "\n",
    "Dans pandas, les données manquantes sont identifiés avec les fonctions de Numpy (`np.nan`). On a d'autres fonctions telles que :"
   ]
  },
  {
   "cell_type": "code",
   "execution_count": 7,
   "metadata": {
    "slideshow": {
     "slide_type": "fragment"
    }
   },
   "outputs": [
    {
     "data": {
      "text/plain": [
       "a    False\n",
       "b     True\n",
       "c    False\n",
       "dtype: bool"
      ]
     },
     "execution_count": 7,
     "metadata": {},
     "output_type": "execute_result"
    }
   ],
   "source": [
    "pd.isna(pd.Series([2,np.nan,4],index=['a','b','c']))"
   ]
  },
  {
   "cell_type": "code",
   "execution_count": 8,
   "metadata": {
    "slideshow": {
     "slide_type": "fragment"
    }
   },
   "outputs": [
    {
     "data": {
      "text/plain": [
       "a     True\n",
       "b    False\n",
       "c     True\n",
       "dtype: bool"
      ]
     },
     "execution_count": 8,
     "metadata": {},
     "output_type": "execute_result"
    }
   ],
   "source": [
    "pd.notna(pd.Series([2,np.nan,4],index=['a','b','c']))"
   ]
  },
  {
   "cell_type": "markdown",
   "metadata": {
    "slideshow": {
     "slide_type": "slide"
    }
   },
   "source": [
    "# Les dates avec pandas\n",
    "\n",
    "- Python possède un module datetime qui permet de gérer facilement des dates\n",
    "- Pandas permet d'appliquer les opérations sur les dates aux Series et aux DataFrame\n",
    "- Le format es dates Python est `YYYY-MM-DD HH:MM:SS`\n",
    "\n",
    "- On peut générer des dates avec la fonction `pd.date_range()` avec différente fréquences `freq=`\n",
    "- On peut utiliser ces dates comme index dans un DataFrame ou dans un objet Series\n",
    "- On peut changer la fréquence en utilisant `.asfreq()`\n",
    "- Pour transformer une chaine de caractère en date, on utilise `pd.to_datetime()` avec l’option `dayfirst=True` si on est dans le cas français\n",
    "-On pourra aussi spécifier un format pour accélérer le processus `%Y%m%d`"
   ]
  },
  {
   "cell_type": "code",
   "execution_count": 9,
   "metadata": {},
   "outputs": [],
   "source": [
    "import datetime"
   ]
  },
  {
   "cell_type": "code",
   "execution_count": 10,
   "metadata": {},
   "outputs": [
    {
     "data": {
      "text/plain": [
       "datetime.datetime(2019, 7, 8, 13, 35, 54, 830822)"
      ]
     },
     "execution_count": 10,
     "metadata": {},
     "output_type": "execute_result"
    }
   ],
   "source": [
    "pd.datetime.today()"
   ]
  },
  {
   "cell_type": "markdown",
   "metadata": {
    "slideshow": {
     "slide_type": "subslide"
    }
   },
   "source": [
    "**Exercice :**\n",
    "\n",
    "Créez un objet Series et ajoutez des dates partant du 3 octobre 2017 par jour jusqu’à aujourd’hui. Afficher le résultat dans un graphique (on utilisera la méthode `.plot()`"
   ]
  },
  {
   "cell_type": "code",
   "execution_count": 11,
   "metadata": {
    "slideshow": {
     "slide_type": "fragment"
    }
   },
   "outputs": [
    {
     "data": {
      "text/plain": [
       "<matplotlib.axes._subplots.AxesSubplot at 0x2168f81dac8>"
      ]
     },
     "execution_count": 11,
     "metadata": {},
     "output_type": "execute_result"
    },
    {
     "data": {
      "image/png": "[encoded data removed]",
      "text/plain": [
       "<Figure size 432x288 with 1 Axes>"
      ]
     },
     "metadata": {
      "needs_background": "light"
     },
     "output_type": "display_data"
    }
   ],
   "source": [
    "dates = pd.date_range(\"2017-10-03\",pd.datetime.today(),freq=\"d\")\n",
    "serie_alea = pd.Series(np.random.random(len(dates)),index=dates)\n",
    "serie_alea.plot()"
   ]
  },
  {
   "cell_type": "code",
   "execution_count": 12,
   "metadata": {},
   "outputs": [],
   "source": [
    "serie_alea=serie_alea.tz_localize(\"Europe/Paris\")"
   ]
  },
  {
   "cell_type": "code",
   "execution_count": 13,
   "metadata": {},
   "outputs": [],
   "source": [
    "serie_alea_noumea = serie_alea.tz_convert(\"Pacific/Noumea\")"
   ]
  },
  {
   "cell_type": "markdown",
   "metadata": {
    "slideshow": {
     "slide_type": "subslide"
    }
   },
   "source": [
    "# Aller plus loin avec les dates\n",
    "\n",
    "- On peut définir avec pandas des fuseaux horaires\n",
    "    - On utilise `.tz_localize(\"Europe/Paris\")`\n",
    "    - On peut changer de fuseau horaire avec `.tz_convert()`\n",
    "\n",
    "- On peut aussi travailler sur des périodes plutôt que sur des dates\n",
    "    - On utilise `pd.period_range()`\n"
   ]
  },
  {
   "cell_type": "markdown",
   "metadata": {
    "slideshow": {
     "slide_type": "subslide"
    }
   },
   "source": [
    "**Exercice :** \n",
    "    \n",
    "Créez un objet Series avec des résultats par heures à partir d'hier.\n"
   ]
  },
  {
   "cell_type": "code",
   "execution_count": 14,
   "metadata": {},
   "outputs": [
    {
     "data": {
      "text/plain": [
       "PeriodIndex(['2015-12-28/2016-01-03', '2016-01-04/2016-01-10',\n",
       "             '2016-01-11/2016-01-17', '2016-01-18/2016-01-24',\n",
       "             '2016-01-25/2016-01-31', '2016-02-01/2016-02-07',\n",
       "             '2016-02-08/2016-02-14', '2016-02-15/2016-02-21',\n",
       "             '2016-02-22/2016-02-28', '2016-02-29/2016-03-06',\n",
       "             ...\n",
       "             '2019-05-06/2019-05-12', '2019-05-13/2019-05-19',\n",
       "             '2019-05-20/2019-05-26', '2019-05-27/2019-06-02',\n",
       "             '2019-06-03/2019-06-09', '2019-06-10/2019-06-16',\n",
       "             '2019-06-17/2019-06-23', '2019-06-24/2019-06-30',\n",
       "             '2019-07-01/2019-07-07', '2019-07-08/2019-07-14'],\n",
       "            dtype='period[W-SUN]', length=185, freq='W-SUN')"
      ]
     },
     "execution_count": 14,
     "metadata": {},
     "output_type": "execute_result"
    }
   ],
   "source": [
    "pd.period_range(\"2016-01-01\",pd.datetime.today(),freq = \"W\")"
   ]
  },
  {
   "cell_type": "markdown",
   "metadata": {
    "slideshow": {
     "slide_type": "slide"
    }
   },
   "source": [
    "# Le DataFrame \n",
    "\n",
    "- Les DataFrame sont des objets très souples pouvant être construits de différentes façon\n",
    "- On peut les construire en récupérant des données copier / coller, où directement sur Internet, ou en entrant les valeurs manuellement\n",
    "\n",
    "\n",
    "- Les DataFrame se rapprochent des dictionnaires et on peut construire ces objets en utilisant `DataFrame(dico)`\n",
    "- De nombreux détails sur la création des DataFrame se trouve sur ce site :\n",
    "\n",
    "<http://pandas.pydata.org/pandas-docs/dev/generated/pandas.DataFrame.html>\n"
   ]
  },
  {
   "cell_type": "markdown",
   "metadata": {
    "slideshow": {
     "slide_type": "subslide"
    }
   },
   "source": [
    "# Construction de DataFrame\n",
    "\n",
    "On peut simplement construire un DataFrame avec le classe pd.DataFrame() à partir de différentes structures :"
   ]
  },
  {
   "cell_type": "code",
   "execution_count": 15,
   "metadata": {},
   "outputs": [
    {
     "name": "stderr",
     "output_type": "stream",
     "text": [
      "C:\\Users\\s4d-asus-14\\Anaconda3\\lib\\site-packages\\IPython\\core\\interactiveshell.py:3049: DtypeWarning: Columns (43,61,62) have mixed types. Specify dtype option on import or set low_memory=False.\n",
      "  interactivity=interactivity, compiler=compiler, result=result)\n"
     ]
    }
   ],
   "source": [
    "airbnb = pd.read_csv(\"https://www.stat4decision.com/airbnb.csv\")"
   ]
  },
  {
   "cell_type": "code",
   "execution_count": 16,
   "metadata": {},
   "outputs": [
    {
     "data": {
      "text/html": [
       "<div>\n",
       "<style scoped>\n",
       "    .dataframe tbody tr th:only-of-type {\n",
       "        vertical-align: middle;\n",
       "    }\n",
       "\n",
       "    .dataframe tbody tr th {\n",
       "        vertical-align: top;\n",
       "    }\n",
       "\n",
       "    .dataframe thead th {\n",
       "        text-align: right;\n",
       "    }\n",
       "</style>\n",
       "<table border=\"1\" class=\"dataframe\">\n",
       "  <thead>\n",
       "    <tr style=\"text-align: right;\">\n",
       "      <th></th>\n",
       "      <th>id</th>\n",
       "      <th>listing_url</th>\n",
       "      <th>scrape_id</th>\n",
       "      <th>last_scraped</th>\n",
       "      <th>name</th>\n",
       "      <th>summary</th>\n",
       "      <th>space</th>\n",
       "      <th>description</th>\n",
       "      <th>experiences_offered</th>\n",
       "      <th>neighborhood_overview</th>\n",
       "      <th>...</th>\n",
       "      <th>instant_bookable</th>\n",
       "      <th>is_business_travel_ready</th>\n",
       "      <th>cancellation_policy</th>\n",
       "      <th>require_guest_profile_picture</th>\n",
       "      <th>require_guest_phone_verification</th>\n",
       "      <th>calculated_host_listings_count</th>\n",
       "      <th>calculated_host_listings_count_entire_homes</th>\n",
       "      <th>calculated_host_listings_count_private_rooms</th>\n",
       "      <th>calculated_host_listings_count_shared_rooms</th>\n",
       "      <th>reviews_per_month</th>\n",
       "    </tr>\n",
       "  </thead>\n",
       "  <tbody>\n",
       "    <tr>\n",
       "      <th>0</th>\n",
       "      <td>3109</td>\n",
       "      <td>https://www.airbnb.com/rooms/3109</td>\n",
       "      <td>20190507030954</td>\n",
       "      <td>2019-05-07</td>\n",
       "      <td>zen and calm</td>\n",
       "      <td>Appartement très calme de 50M2 Utilisation de ...</td>\n",
       "      <td>I bedroom appartment in Paris 14</td>\n",
       "      <td>I bedroom appartment in Paris 14 Good restaura...</td>\n",
       "      <td>none</td>\n",
       "      <td>Good restaurants very close the Montparnasse S...</td>\n",
       "      <td>...</td>\n",
       "      <td>f</td>\n",
       "      <td>f</td>\n",
       "      <td>flexible</td>\n",
       "      <td>f</td>\n",
       "      <td>f</td>\n",
       "      <td>1</td>\n",
       "      <td>1</td>\n",
       "      <td>0</td>\n",
       "      <td>0</td>\n",
       "      <td>0.28</td>\n",
       "    </tr>\n",
       "    <tr>\n",
       "      <th>1</th>\n",
       "      <td>5396</td>\n",
       "      <td>https://www.airbnb.com/rooms/5396</td>\n",
       "      <td>20190507030954</td>\n",
       "      <td>2019-05-08</td>\n",
       "      <td>Explore the heart of old Paris</td>\n",
       "      <td>Cozy, well-appointed and graciously designed s...</td>\n",
       "      <td>Small, well appointed studio apartment at the ...</td>\n",
       "      <td>Cozy, well-appointed and graciously designed s...</td>\n",
       "      <td>none</td>\n",
       "      <td>You are within walking distance to the Louvre,...</td>\n",
       "      <td>...</td>\n",
       "      <td>t</td>\n",
       "      <td>f</td>\n",
       "      <td>strict_14_with_grace_period</td>\n",
       "      <td>f</td>\n",
       "      <td>f</td>\n",
       "      <td>1</td>\n",
       "      <td>1</td>\n",
       "      <td>0</td>\n",
       "      <td>0</td>\n",
       "      <td>1.44</td>\n",
       "    </tr>\n",
       "    <tr>\n",
       "      <th>2</th>\n",
       "      <td>7397</td>\n",
       "      <td>https://www.airbnb.com/rooms/7397</td>\n",
       "      <td>20190507030954</td>\n",
       "      <td>2019-05-07</td>\n",
       "      <td>MARAIS - 2ROOMS APT - 2/4 PEOPLE</td>\n",
       "      <td>VERY CONVENIENT, WITH THE BEST LOCATION !</td>\n",
       "      <td>PLEASE ASK ME BEFORE TO MAKE A REQUEST !!! No ...</td>\n",
       "      <td>VERY CONVENIENT, WITH THE BEST LOCATION ! PLEA...</td>\n",
       "      <td>none</td>\n",
       "      <td>NaN</td>\n",
       "      <td>...</td>\n",
       "      <td>f</td>\n",
       "      <td>f</td>\n",
       "      <td>moderate</td>\n",
       "      <td>f</td>\n",
       "      <td>f</td>\n",
       "      <td>1</td>\n",
       "      <td>1</td>\n",
       "      <td>0</td>\n",
       "      <td>0</td>\n",
       "      <td>2.47</td>\n",
       "    </tr>\n",
       "    <tr>\n",
       "      <th>3</th>\n",
       "      <td>8522</td>\n",
       "      <td>https://www.airbnb.com/rooms/8522</td>\n",
       "      <td>20190507030954</td>\n",
       "      <td>2019-05-08</td>\n",
       "      <td>GREAT FLAT w/ CITY VIEW</td>\n",
       "      <td>NaN</td>\n",
       "      <td>Really nice flat located in the 20th district ...</td>\n",
       "      <td>Really nice flat located in the 20th district ...</td>\n",
       "      <td>none</td>\n",
       "      <td>NaN</td>\n",
       "      <td>...</td>\n",
       "      <td>f</td>\n",
       "      <td>f</td>\n",
       "      <td>moderate</td>\n",
       "      <td>f</td>\n",
       "      <td>f</td>\n",
       "      <td>1</td>\n",
       "      <td>1</td>\n",
       "      <td>0</td>\n",
       "      <td>0</td>\n",
       "      <td>0.01</td>\n",
       "    </tr>\n",
       "    <tr>\n",
       "      <th>4</th>\n",
       "      <td>9359</td>\n",
       "      <td>https://www.airbnb.com/rooms/9359</td>\n",
       "      <td>20190507030954</td>\n",
       "      <td>2019-05-07</td>\n",
       "      <td>Cozy, Central Paris: WALK or VELIB EVERYWHERE !</td>\n",
       "      <td>Location! Location! Location! Just bring your ...</td>\n",
       "      <td>Since I live in the USA, it is difficult to ma...</td>\n",
       "      <td>Location! Location! Location! Just bring your ...</td>\n",
       "      <td>none</td>\n",
       "      <td>NaN</td>\n",
       "      <td>...</td>\n",
       "      <td>f</td>\n",
       "      <td>f</td>\n",
       "      <td>strict_14_with_grace_period</td>\n",
       "      <td>t</td>\n",
       "      <td>t</td>\n",
       "      <td>1</td>\n",
       "      <td>1</td>\n",
       "      <td>0</td>\n",
       "      <td>0</td>\n",
       "      <td>NaN</td>\n",
       "    </tr>\n",
       "  </tbody>\n",
       "</table>\n",
       "<p>5 rows × 106 columns</p>\n",
       "</div>"
      ],
      "text/plain": [
       "     id                        listing_url       scrape_id last_scraped  \\\n",
       "0  3109  https://www.airbnb.com/rooms/3109  20190507030954   2019-05-07   \n",
       "1  5396  https://www.airbnb.com/rooms/5396  20190507030954   2019-05-08   \n",
       "2  7397  https://www.airbnb.com/rooms/7397  20190507030954   2019-05-07   \n",
       "3  8522  https://www.airbnb.com/rooms/8522  20190507030954   2019-05-08   \n",
       "4  9359  https://www.airbnb.com/rooms/9359  20190507030954   2019-05-07   \n",
       "\n",
       "                                              name  \\\n",
       "0                                     zen and calm   \n",
       "1                   Explore the heart of old Paris   \n",
       "2                 MARAIS - 2ROOMS APT - 2/4 PEOPLE   \n",
       "3                          GREAT FLAT w/ CITY VIEW   \n",
       "4  Cozy, Central Paris: WALK or VELIB EVERYWHERE !   \n",
       "\n",
       "                                             summary  \\\n",
       "0  Appartement très calme de 50M2 Utilisation de ...   \n",
       "1  Cozy, well-appointed and graciously designed s...   \n",
       "2          VERY CONVENIENT, WITH THE BEST LOCATION !   \n",
       "3                                                NaN   \n",
       "4  Location! Location! Location! Just bring your ...   \n",
       "\n",
       "                                               space  \\\n",
       "0                   I bedroom appartment in Paris 14   \n",
       "1  Small, well appointed studio apartment at the ...   \n",
       "2  PLEASE ASK ME BEFORE TO MAKE A REQUEST !!! No ...   \n",
       "3  Really nice flat located in the 20th district ...   \n",
       "4  Since I live in the USA, it is difficult to ma...   \n",
       "\n",
       "                                         description experiences_offered  \\\n",
       "0  I bedroom appartment in Paris 14 Good restaura...                none   \n",
       "1  Cozy, well-appointed and graciously designed s...                none   \n",
       "2  VERY CONVENIENT, WITH THE BEST LOCATION ! PLEA...                none   \n",
       "3  Really nice flat located in the 20th district ...                none   \n",
       "4  Location! Location! Location! Just bring your ...                none   \n",
       "\n",
       "                               neighborhood_overview  ... instant_bookable  \\\n",
       "0  Good restaurants very close the Montparnasse S...  ...                f   \n",
       "1  You are within walking distance to the Louvre,...  ...                t   \n",
       "2                                                NaN  ...                f   \n",
       "3                                                NaN  ...                f   \n",
       "4                                                NaN  ...                f   \n",
       "\n",
       "  is_business_travel_ready          cancellation_policy  \\\n",
       "0                        f                     flexible   \n",
       "1                        f  strict_14_with_grace_period   \n",
       "2                        f                     moderate   \n",
       "3                        f                     moderate   \n",
       "4                        f  strict_14_with_grace_period   \n",
       "\n",
       "  require_guest_profile_picture require_guest_phone_verification  \\\n",
       "0                             f                                f   \n",
       "1                             f                                f   \n",
       "2                             f                                f   \n",
       "3                             f                                f   \n",
       "4                             t                                t   \n",
       "\n",
       "   calculated_host_listings_count  \\\n",
       "0                               1   \n",
       "1                               1   \n",
       "2                               1   \n",
       "3                               1   \n",
       "4                               1   \n",
       "\n",
       "   calculated_host_listings_count_entire_homes  \\\n",
       "0                                            1   \n",
       "1                                            1   \n",
       "2                                            1   \n",
       "3                                            1   \n",
       "4                                            1   \n",
       "\n",
       "  calculated_host_listings_count_private_rooms  \\\n",
       "0                                            0   \n",
       "1                                            0   \n",
       "2                                            0   \n",
       "3                                            0   \n",
       "4                                            0   \n",
       "\n",
       "   calculated_host_listings_count_shared_rooms  reviews_per_month  \n",
       "0                                            0               0.28  \n",
       "1                                            0               1.44  \n",
       "2                                            0               2.47  \n",
       "3                                            0               0.01  \n",
       "4                                            0                NaN  \n",
       "\n",
       "[5 rows x 106 columns]"
      ]
     },
     "execution_count": 16,
     "metadata": {},
     "output_type": "execute_result"
    }
   ],
   "source": [
    "# on affiche les 5 premieres lignes\n",
    "airbnb.head() "
   ]
  },
  {
   "cell_type": "code",
   "execution_count": 17,
   "metadata": {},
   "outputs": [
    {
     "data": {
      "text/plain": [
       "(59126, 106)"
      ]
     },
     "execution_count": 17,
     "metadata": {},
     "output_type": "execute_result"
    }
   ],
   "source": [
    "airbnb.shape"
   ]
  },
  {
   "cell_type": "code",
   "execution_count": 18,
   "metadata": {},
   "outputs": [
    {
     "name": "stdout",
     "output_type": "stream",
     "text": [
      "<class 'pandas.core.frame.DataFrame'>\n",
      "RangeIndex: 59126 entries, 0 to 59125\n",
      "Data columns (total 106 columns):\n",
      "id                                              int64\n",
      "listing_url                                     object\n",
      "scrape_id                                       int64\n",
      "last_scraped                                    object\n",
      "name                                            object\n",
      "summary                                         object\n",
      "space                                           object\n",
      "description                                     object\n",
      "experiences_offered                             object\n",
      "neighborhood_overview                           object\n",
      "notes                                           object\n",
      "transit                                         object\n",
      "access                                          object\n",
      "interaction                                     object\n",
      "house_rules                                     object\n",
      "thumbnail_url                                   float64\n",
      "medium_url                                      float64\n",
      "picture_url                                     object\n",
      "xl_picture_url                                  float64\n",
      "host_id                                         int64\n",
      "host_url                                        object\n",
      "host_name                                       object\n",
      "host_since                                      object\n",
      "host_location                                   object\n",
      "host_about                                      object\n",
      "host_response_time                              object\n",
      "host_response_rate                              object\n",
      "host_acceptance_rate                            float64\n",
      "host_is_superhost                               object\n",
      "host_thumbnail_url                              object\n",
      "host_picture_url                                object\n",
      "host_neighbourhood                              object\n",
      "host_listings_count                             float64\n",
      "host_total_listings_count                       float64\n",
      "host_verifications                              object\n",
      "host_has_profile_pic                            object\n",
      "host_identity_verified                          object\n",
      "street                                          object\n",
      "neighbourhood                                   object\n",
      "neighbourhood_cleansed                          object\n",
      "neighbourhood_group_cleansed                    float64\n",
      "city                                            object\n",
      "state                                           object\n",
      "zipcode                                         object\n",
      "market                                          object\n",
      "smart_location                                  object\n",
      "country_code                                    object\n",
      "country                                         object\n",
      "latitude                                        float64\n",
      "longitude                                       float64\n",
      "is_location_exact                               object\n",
      "property_type                                   object\n",
      "room_type                                       object\n",
      "accommodates                                    int64\n",
      "bathrooms                                       float64\n",
      "bedrooms                                        float64\n",
      "beds                                            float64\n",
      "bed_type                                        object\n",
      "amenities                                       object\n",
      "square_feet                                     float64\n",
      "price                                           object\n",
      "weekly_price                                    object\n",
      "monthly_price                                   object\n",
      "security_deposit                                object\n",
      "cleaning_fee                                    object\n",
      "guests_included                                 int64\n",
      "extra_people                                    object\n",
      "minimum_nights                                  int64\n",
      "maximum_nights                                  int64\n",
      "minimum_minimum_nights                          int64\n",
      "maximum_minimum_nights                          int64\n",
      "minimum_maximum_nights                          int64\n",
      "maximum_maximum_nights                          int64\n",
      "minimum_nights_avg_ntm                          float64\n",
      "maximum_nights_avg_ntm                          float64\n",
      "calendar_updated                                object\n",
      "has_availability                                object\n",
      "availability_30                                 int64\n",
      "availability_60                                 int64\n",
      "availability_90                                 int64\n",
      "availability_365                                int64\n",
      "calendar_last_scraped                           object\n",
      "number_of_reviews                               int64\n",
      "number_of_reviews_ltm                           int64\n",
      "first_review                                    object\n",
      "last_review                                     object\n",
      "review_scores_rating                            float64\n",
      "review_scores_accuracy                          float64\n",
      "review_scores_cleanliness                       float64\n",
      "review_scores_checkin                           float64\n",
      "review_scores_communication                     float64\n",
      "review_scores_location                          float64\n",
      "review_scores_value                             float64\n",
      "requires_license                                object\n",
      "license                                         object\n",
      "jurisdiction_names                              object\n",
      "instant_bookable                                object\n",
      "is_business_travel_ready                        object\n",
      "cancellation_policy                             object\n",
      "require_guest_profile_picture                   object\n",
      "require_guest_phone_verification                object\n",
      "calculated_host_listings_count                  int64\n",
      "calculated_host_listings_count_entire_homes     int64\n",
      "calculated_host_listings_count_private_rooms    int64\n",
      "calculated_host_listings_count_shared_rooms     int64\n",
      "reviews_per_month                               float64\n",
      "dtypes: float64(23), int64(21), object(62)\n",
      "memory usage: 47.8+ MB\n"
     ]
    }
   ],
   "source": [
    "airbnb.info(\"all\")"
   ]
  },
  {
   "cell_type": "code",
   "execution_count": 19,
   "metadata": {},
   "outputs": [
    {
     "data": {
      "text/plain": [
       "Index(['id', 'listing_url', 'scrape_id', 'last_scraped', 'name', 'summary',\n",
       "       'space', 'description', 'experiences_offered', 'neighborhood_overview',\n",
       "       ...\n",
       "       'instant_bookable', 'is_business_travel_ready', 'cancellation_policy',\n",
       "       'require_guest_profile_picture', 'require_guest_phone_verification',\n",
       "       'calculated_host_listings_count',\n",
       "       'calculated_host_listings_count_entire_homes',\n",
       "       'calculated_host_listings_count_private_rooms',\n",
       "       'calculated_host_listings_count_shared_rooms', 'reviews_per_month'],\n",
       "      dtype='object', length=106)"
      ]
     },
     "execution_count": 19,
     "metadata": {},
     "output_type": "execute_result"
    }
   ],
   "source": [
    "airbnb.columns"
   ]
  },
  {
   "cell_type": "code",
   "execution_count": 20,
   "metadata": {},
   "outputs": [
    {
     "name": "stdout",
     "output_type": "stream",
     "text": [
      "id 17555966.54182593\n",
      "scrape_id 20190507030941.04\n",
      "thumbnail_url nan\n",
      "medium_url nan\n",
      "xl_picture_url nan\n",
      "host_id 60109052.292527825\n",
      "host_acceptance_rate nan\n",
      "host_listings_count 13.523955337506344\n",
      "host_total_listings_count 13.523955337506344\n",
      "neighbourhood_group_cleansed nan\n",
      "latitude 48.86407962672909\n",
      "longitude 2.3454179951290737\n",
      "accommodates 3.0684639583262863\n",
      "bathrooms 1.12189732823135\n",
      "bedrooms 1.0992975031739314\n",
      "beds 1.6725796037652496\n",
      "square_feet 399.2931180968564\n",
      "guests_included 1.4787741433548693\n",
      "minimum_nights 5.643997564523222\n",
      "maximum_nights 880.9398403409667\n",
      "minimum_minimum_nights 5.543111321584413\n",
      "maximum_minimum_nights 5.979670534113588\n",
      "minimum_maximum_nights 863.0715252173325\n",
      "maximum_maximum_nights 876.874657511078\n",
      "minimum_nights_avg_ntm 5.74175320501972\n",
      "maximum_nights_avg_ntm 868.0784764739702\n",
      "availability_30 3.272773399181409\n",
      "availability_60 7.0298007644691\n",
      "availability_90 14.151033386327503\n",
      "availability_365 77.80274329398235\n",
      "number_of_reviews 18.97522240638636\n",
      "number_of_reviews_ltm 7.348662179075196\n",
      "review_scores_rating 92.90438423536189\n",
      "review_scores_accuracy 9.587795572512311\n",
      "review_scores_cleanliness 9.204044525256108\n",
      "review_scores_checkin 9.683311140701287\n",
      "review_scores_communication 9.717498336660013\n",
      "review_scores_location 9.63839513569891\n",
      "review_scores_value 9.26760907194532\n",
      "calculated_host_listings_count 7.671954808375334\n",
      "calculated_host_listings_count_entire_homes 7.247454588505903\n",
      "calculated_host_listings_count_private_rooms 0.40231032033284847\n",
      "calculated_host_listings_count_shared_rooms 0.022189899536582892\n",
      "reviews_per_month 1.131247402147577\n"
     ]
    }
   ],
   "source": [
    "airbnb[\"price\"]\n",
    "#airbnb.price\n",
    "for col in airbnb.select_dtypes(np.number).columns:\n",
    "    print(col, airbnb[col].mean())"
   ]
  },
  {
   "cell_type": "code",
   "execution_count": 21,
   "metadata": {
    "slideshow": {
     "slide_type": "fragment"
    }
   },
   "outputs": [
    {
     "data": {
      "text/html": [
       "<div>\n",
       "<style scoped>\n",
       "    .dataframe tbody tr th:only-of-type {\n",
       "        vertical-align: middle;\n",
       "    }\n",
       "\n",
       "    .dataframe tbody tr th {\n",
       "        vertical-align: top;\n",
       "    }\n",
       "\n",
       "    .dataframe thead th {\n",
       "        text-align: right;\n",
       "    }\n",
       "</style>\n",
       "<table border=\"1\" class=\"dataframe\">\n",
       "  <thead>\n",
       "    <tr style=\"text-align: right;\">\n",
       "      <th></th>\n",
       "      <th>col_0</th>\n",
       "      <th>col_1</th>\n",
       "    </tr>\n",
       "  </thead>\n",
       "  <tbody>\n",
       "    <tr>\n",
       "      <th>obs_0</th>\n",
       "      <td>0.082434</td>\n",
       "      <td>0.142762</td>\n",
       "    </tr>\n",
       "    <tr>\n",
       "      <th>obs_1</th>\n",
       "      <td>1.028257</td>\n",
       "      <td>0.433340</td>\n",
       "    </tr>\n",
       "    <tr>\n",
       "      <th>obs_2</th>\n",
       "      <td>-0.050964</td>\n",
       "      <td>-1.163969</td>\n",
       "    </tr>\n",
       "    <tr>\n",
       "      <th>obs_3</th>\n",
       "      <td>1.554042</td>\n",
       "      <td>-1.323964</td>\n",
       "    </tr>\n",
       "    <tr>\n",
       "      <th>obs_4</th>\n",
       "      <td>1.444780</td>\n",
       "      <td>-1.099346</td>\n",
       "    </tr>\n",
       "  </tbody>\n",
       "</table>\n",
       "</div>"
      ],
      "text/plain": [
       "          col_0     col_1\n",
       "obs_0  0.082434  0.142762\n",
       "obs_1  1.028257  0.433340\n",
       "obs_2 -0.050964 -1.163969\n",
       "obs_3  1.554042 -1.323964\n",
       "obs_4  1.444780 -1.099346"
      ]
     },
     "execution_count": 21,
     "metadata": {},
     "output_type": "execute_result"
    }
   ],
   "source": [
    "frame1=pd.DataFrame(np.random.randn(10).reshape(5,2),\n",
    "             index=[\"obs_\"+str(i) for i in range(5)],\n",
    "             columns=[\"col_\"+str(i) for i in range(2)])\n",
    "frame1"
   ]
  },
  {
   "cell_type": "markdown",
   "metadata": {
    "slideshow": {
     "slide_type": "subslide"
    }
   },
   "source": [
    "# Opérations sur les DataFrame\n",
    "\n",
    "On peut afficher le nom des colonnes :"
   ]
  },
  {
   "cell_type": "code",
   "execution_count": 22,
   "metadata": {
    "slideshow": {
     "slide_type": "fragment"
    }
   },
   "outputs": [
    {
     "name": "stdout",
     "output_type": "stream",
     "text": [
      "Index(['col_0', 'col_1'], dtype='object')\n"
     ]
    }
   ],
   "source": [
    "print(frame1.columns)"
   ]
  },
  {
   "cell_type": "markdown",
   "metadata": {
    "slideshow": {
     "slide_type": "fragment"
    }
   },
   "source": [
    "On peut accéder à une colonne avec :\n",
    "- `frame1.col_0` : attention au cas de nom de colonnes avec des espaces...\n",
    "- `frame1['col_0']`\n",
    "\n",
    "On peut accéder à une cellule avec :\n",
    "- `frame1.loc['obs1','col_0']` : on utilise les index et le nom des colonnes\n",
    "- `frame1.iloc[1,0]` : on utilise les positions dans le DataFrame\n"
   ]
  },
  {
   "cell_type": "markdown",
   "metadata": {
    "slideshow": {
     "slide_type": "subslide"
    }
   },
   "source": [
    "# Options de visualisation et de résumé\n",
    "\n",
    "Pour afficher les 3 premières lignes, on peut utiliser :\n"
   ]
  },
  {
   "cell_type": "code",
   "execution_count": 23,
   "metadata": {
    "slideshow": {
     "slide_type": "fragment"
    }
   },
   "outputs": [
    {
     "data": {
      "text/html": [
       "<div>\n",
       "<style scoped>\n",
       "    .dataframe tbody tr th:only-of-type {\n",
       "        vertical-align: middle;\n",
       "    }\n",
       "\n",
       "    .dataframe tbody tr th {\n",
       "        vertical-align: top;\n",
       "    }\n",
       "\n",
       "    .dataframe thead th {\n",
       "        text-align: right;\n",
       "    }\n",
       "</style>\n",
       "<table border=\"1\" class=\"dataframe\">\n",
       "  <thead>\n",
       "    <tr style=\"text-align: right;\">\n",
       "      <th></th>\n",
       "      <th>col_0</th>\n",
       "      <th>col_1</th>\n",
       "    </tr>\n",
       "  </thead>\n",
       "  <tbody>\n",
       "    <tr>\n",
       "      <th>obs_0</th>\n",
       "      <td>0.082434</td>\n",
       "      <td>0.142762</td>\n",
       "    </tr>\n",
       "    <tr>\n",
       "      <th>obs_1</th>\n",
       "      <td>1.028257</td>\n",
       "      <td>0.433340</td>\n",
       "    </tr>\n",
       "    <tr>\n",
       "      <th>obs_2</th>\n",
       "      <td>-0.050964</td>\n",
       "      <td>-1.163969</td>\n",
       "    </tr>\n",
       "  </tbody>\n",
       "</table>\n",
       "</div>"
      ],
      "text/plain": [
       "          col_0     col_1\n",
       "obs_0  0.082434  0.142762\n",
       "obs_1  1.028257  0.433340\n",
       "obs_2 -0.050964 -1.163969"
      ]
     },
     "execution_count": 23,
     "metadata": {},
     "output_type": "execute_result"
    }
   ],
   "source": [
    "frame1.head(3)"
   ]
  },
  {
   "cell_type": "markdown",
   "metadata": {
    "slideshow": {
     "slide_type": "subslide"
    }
   },
   "source": [
    "Pour afficher un résumé du DF :"
   ]
  },
  {
   "cell_type": "code",
   "execution_count": 24,
   "metadata": {
    "slideshow": {
     "slide_type": "fragment"
    }
   },
   "outputs": [
    {
     "name": "stdout",
     "output_type": "stream",
     "text": [
      "<class 'pandas.core.frame.DataFrame'>\n",
      "Index: 5 entries, obs_0 to obs_4\n",
      "Data columns (total 2 columns):\n",
      "col_0    5 non-null float64\n",
      "col_1    5 non-null float64\n",
      "dtypes: float64(2)\n",
      "memory usage: 120.0+ bytes\n"
     ]
    }
   ],
   "source": [
    "frame1.info()"
   ]
  },
  {
   "cell_type": "markdown",
   "metadata": {
    "slideshow": {
     "slide_type": "slide"
    }
   },
   "source": [
    "# Importer des données externes\n",
    "\n",
    "Pandas est l'outil le plus efficace pour importer des données externes, il prend en charge de nombreux formats dont csv, Excel, SQL, SAS...\n",
    "\n",
    "\n",
    "## Importation de données avec Pandas\n",
    "\n",
    "Quel que soit le type de fichier, Pandas possède une fonction :\n",
    "```python\n",
    "frame=pd.read_...('chemin_du_fichier/nom_du_fichier',...)\n",
    "```\n",
    "Pour écrire un DataFrame dans un fichier, on utilise :\n",
    "```python\n",
    "frame.to_...('chemin_du_fichier/nom_du_fichier',...)\n",
    "```"
   ]
  },
  {
   "cell_type": "markdown",
   "metadata": {
    "slideshow": {
     "slide_type": "subslide"
    }
   },
   "source": [
    "**Exercice :**\n",
    "    \n",
    "Importer un fichier `.csv` avec `pd.read_csv()`. On utilisera le fichier \"./data/airbnb.csv\""
   ]
  },
  {
   "cell_type": "code",
   "execution_count": 25,
   "metadata": {},
   "outputs": [],
   "source": [
    "airbnb = pd.read_csv(\"https://www.stat4decision.com/airbnb.csv\")\n"
   ]
  },
  {
   "cell_type": "markdown",
   "metadata": {
    "slideshow": {
     "slide_type": "subslide"
    }
   },
   "source": [
    "# D'autres types de données\n",
    "\n",
    "## JSON\n",
    "Les objets JSON ressemblent à des dictionnaires.\n",
    "\n",
    "On utilise le module `json` puis la fonction `json.loads()` pour transformer une entrée JSON en objet json\n",
    "\n",
    "Si le fichier a un format `json` bien construit on peut utiliser `pd.read_json()`\n",
    "\n",
    "## HTML\n",
    "On utilise `pd.read_html(url)`. Cet fonction est basée sur les packages `beautifulsoup` et `html5lib`\n",
    "\n",
    "Cette fonction renvoie une liste de DataFrame qui représentent tous les DataFrame de la page. On ira ensuite chercher l'élément qui nous intéresse avec `frame_list[0]`"
   ]
  },
  {
   "cell_type": "markdown",
   "metadata": {
    "slideshow": {
     "slide_type": "subslide"
    }
   },
   "source": [
    "**Exercice :**\n",
    "    \n",
    "Importez un tableau en html depuis la page <http://www.fdic.gov/bank/individual/failed/banklist.html>"
   ]
  },
  {
   "cell_type": "code",
   "execution_count": 26,
   "metadata": {},
   "outputs": [],
   "source": [
    "bank = pd.read_html('http://www.fdic.gov/bank/individual/failed/banklist.html')"
   ]
  },
  {
   "cell_type": "code",
   "execution_count": 27,
   "metadata": {},
   "outputs": [
    {
     "data": {
      "text/plain": [
       "list"
      ]
     },
     "execution_count": 27,
     "metadata": {},
     "output_type": "execute_result"
    }
   ],
   "source": [
    "type(bank)"
   ]
  },
  {
   "cell_type": "code",
   "execution_count": 28,
   "metadata": {},
   "outputs": [
    {
     "data": {
      "text/html": [
       "<div>\n",
       "<style scoped>\n",
       "    .dataframe tbody tr th:only-of-type {\n",
       "        vertical-align: middle;\n",
       "    }\n",
       "\n",
       "    .dataframe tbody tr th {\n",
       "        vertical-align: top;\n",
       "    }\n",
       "\n",
       "    .dataframe thead th {\n",
       "        text-align: right;\n",
       "    }\n",
       "</style>\n",
       "<table border=\"1\" class=\"dataframe\">\n",
       "  <thead>\n",
       "    <tr style=\"text-align: right;\">\n",
       "      <th></th>\n",
       "      <th>Bank Name</th>\n",
       "      <th>City</th>\n",
       "      <th>ST</th>\n",
       "      <th>CERT</th>\n",
       "      <th>Acquiring Institution</th>\n",
       "      <th>Closing Date</th>\n",
       "      <th>Updated Date</th>\n",
       "    </tr>\n",
       "  </thead>\n",
       "  <tbody>\n",
       "    <tr>\n",
       "      <th>0</th>\n",
       "      <td>The Enloe State Bank</td>\n",
       "      <td>Cooper</td>\n",
       "      <td>TX</td>\n",
       "      <td>10716</td>\n",
       "      <td>Legend Bank, N. A.</td>\n",
       "      <td>May 31, 2019</td>\n",
       "      <td>June 18, 2019</td>\n",
       "    </tr>\n",
       "    <tr>\n",
       "      <th>1</th>\n",
       "      <td>Washington Federal Bank for Savings</td>\n",
       "      <td>Chicago</td>\n",
       "      <td>IL</td>\n",
       "      <td>30570</td>\n",
       "      <td>Royal Savings Bank</td>\n",
       "      <td>December 15, 2017</td>\n",
       "      <td>February 1, 2019</td>\n",
       "    </tr>\n",
       "    <tr>\n",
       "      <th>2</th>\n",
       "      <td>The Farmers and Merchants State Bank of Argonia</td>\n",
       "      <td>Argonia</td>\n",
       "      <td>KS</td>\n",
       "      <td>17719</td>\n",
       "      <td>Conway Bank</td>\n",
       "      <td>October 13, 2017</td>\n",
       "      <td>February 21, 2018</td>\n",
       "    </tr>\n",
       "    <tr>\n",
       "      <th>3</th>\n",
       "      <td>Fayette County Bank</td>\n",
       "      <td>Saint Elmo</td>\n",
       "      <td>IL</td>\n",
       "      <td>1802</td>\n",
       "      <td>United Fidelity Bank, fsb</td>\n",
       "      <td>May 26, 2017</td>\n",
       "      <td>January 29, 2019</td>\n",
       "    </tr>\n",
       "    <tr>\n",
       "      <th>4</th>\n",
       "      <td>Guaranty Bank, (d/b/a BestBank in Georgia &amp; Mi...</td>\n",
       "      <td>Milwaukee</td>\n",
       "      <td>WI</td>\n",
       "      <td>30003</td>\n",
       "      <td>First-Citizens Bank &amp; Trust Company</td>\n",
       "      <td>May 5, 2017</td>\n",
       "      <td>March 22, 2018</td>\n",
       "    </tr>\n",
       "  </tbody>\n",
       "</table>\n",
       "</div>"
      ],
      "text/plain": [
       "                                           Bank Name        City  ST   CERT  \\\n",
       "0                               The Enloe State Bank      Cooper  TX  10716   \n",
       "1                Washington Federal Bank for Savings     Chicago  IL  30570   \n",
       "2    The Farmers and Merchants State Bank of Argonia     Argonia  KS  17719   \n",
       "3                                Fayette County Bank  Saint Elmo  IL   1802   \n",
       "4  Guaranty Bank, (d/b/a BestBank in Georgia & Mi...   Milwaukee  WI  30003   \n",
       "\n",
       "                 Acquiring Institution       Closing Date       Updated Date  \n",
       "0                   Legend Bank, N. A.       May 31, 2019      June 18, 2019  \n",
       "1                   Royal Savings Bank  December 15, 2017   February 1, 2019  \n",
       "2                          Conway Bank   October 13, 2017  February 21, 2018  \n",
       "3            United Fidelity Bank, fsb       May 26, 2017   January 29, 2019  \n",
       "4  First-Citizens Bank & Trust Company        May 5, 2017     March 22, 2018  "
      ]
     },
     "execution_count": 28,
     "metadata": {},
     "output_type": "execute_result"
    }
   ],
   "source": [
    "bank[0].head()"
   ]
  },
  {
   "cell_type": "markdown",
   "metadata": {
    "slideshow": {
     "slide_type": "subslide"
    }
   },
   "source": [
    "# Importer depuis Excel\n",
    "\n",
    "On a deux approches pour Excel :\n",
    "- On peut utiliser `pd.read_excel()`\n",
    "- On peut utiliser la classe `pd.ExcelFile()`\n",
    "\n",
    "Dans ce cas, on utilise :\n",
    "```python\n",
    "xlsfile=pd.ExcelFile('fichier.xlsx')\n",
    "xlsfile.parse('Sheet1')\n",
    "```"
   ]
  },
  {
   "cell_type": "code",
   "execution_count": 29,
   "metadata": {},
   "outputs": [],
   "source": [
    "credit2 = pd.read_excel(\"./data/credit2.xlsx\")"
   ]
  },
  {
   "cell_type": "markdown",
   "metadata": {
    "slideshow": {
     "slide_type": "subslide"
    }
   },
   "source": [
    "**Exercice :** \n",
    "    \n",
    "Importez un fichier Excel avec les deux approches, on utilisera : `credit2.xlsx` et `ville.xls`"
   ]
  },
  {
   "cell_type": "code",
   "execution_count": 30,
   "metadata": {},
   "outputs": [],
   "source": [
    "classeur_ville = pd.ExcelFile(\"./data/ville.xls\")"
   ]
  },
  {
   "cell_type": "code",
   "execution_count": 31,
   "metadata": {},
   "outputs": [
    {
     "data": {
      "text/plain": [
       "pandas.io.excel.ExcelFile"
      ]
     },
     "execution_count": 31,
     "metadata": {},
     "output_type": "execute_result"
    }
   ],
   "source": [
    "type(classeur_ville)"
   ]
  },
  {
   "cell_type": "code",
   "execution_count": 32,
   "metadata": {},
   "outputs": [],
   "source": [
    "nom_feuille = classeur_ville.sheet_names[0]"
   ]
  },
  {
   "cell_type": "code",
   "execution_count": 33,
   "metadata": {},
   "outputs": [],
   "source": [
    "ville = classeur_ville.parse(nom_feuille)"
   ]
  },
  {
   "cell_type": "code",
   "execution_count": 34,
   "metadata": {},
   "outputs": [],
   "source": [
    "ville.to_csv(\"./data/ville.csv\",sep=\";\")"
   ]
  },
  {
   "cell_type": "code",
   "execution_count": 35,
   "metadata": {},
   "outputs": [],
   "source": [
    "import matplotlib.pyplot as plt"
   ]
  },
  {
   "cell_type": "code",
   "execution_count": 36,
   "metadata": {},
   "outputs": [
    {
     "data": {
      "text/plain": [
       "<matplotlib.collections.PathCollection at 0x216a72f7160>"
      ]
     },
     "execution_count": 36,
     "metadata": {},
     "output_type": "execute_result"
    },
    {
     "data": {
      "image/png": "[encoded data removed]",
      "text/plain": [
       "<Figure size 432x288 with 1 Axes>"
      ]
     },
     "metadata": {
      "needs_background": "light"
     },
     "output_type": "display_data"
    }
   ],
   "source": [
    "plt.scatter(ville[\" Longitude \"],ville[\" Latitude \"],s=0.5)"
   ]
  },
  {
   "cell_type": "markdown",
   "metadata": {},
   "source": [
    "Ecrire dans un fichier Excel : on peut utiliser ExcelWriter comme classe."
   ]
  },
  {
   "cell_type": "markdown",
   "metadata": {
    "slideshow": {
     "slide_type": "subslide"
    }
   },
   "source": [
    "# Importer des données SQL\n",
    "\n",
    "Pandas possède une fonction `read_sql()` qui permet d’importer directement des bases de données ou des queries dans des DataFrame\n",
    "\n",
    "Il faut tout de même un connecteur pour accéder aux bases de données\n",
    "\n",
    "Pour mettre en place ce connecteur, on utlise le package SQLAlchemy.\n",
    "\n",
    "Suivant le type de base de données, on utilisera différents codes mais la structure du code est toujours la même"
   ]
  },
  {
   "cell_type": "code",
   "execution_count": 37,
   "metadata": {
    "slideshow": {
     "slide_type": "subslide"
    }
   },
   "outputs": [],
   "source": [
    "# on importe l'outil de connexion\n",
    "from sqlalchemy import create_engine"
   ]
  },
  {
   "cell_type": "markdown",
   "metadata": {
    "slideshow": {
     "slide_type": "fragment"
    }
   },
   "source": [
    "On crée une connexion\n",
    "```python\n",
    "connexion=create_engine(\"sqlite:///(...).sqlite\")\n",
    "```"
   ]
  },
  {
   "cell_type": "markdown",
   "metadata": {
    "slideshow": {
     "slide_type": "fragment"
    }
   },
   "source": [
    "On utlise une des fonctions de Pandas pour charger les données\n",
    "```python\n",
    "requete=\"\"\"select ... from ...\"\"\"\n",
    "frame_sql=pd.read_sql_query(requete,connexion)\n",
    "```"
   ]
  },
  {
   "cell_type": "markdown",
   "metadata": {
    "slideshow": {
     "slide_type": "subslide"
    }
   },
   "source": [
    "**Exercices :**\n",
    "    \n",
    "Importez la base de données SQLite salaries et récupérez la table Salaries dans un DataFrame "
   ]
  },
  {
   "cell_type": "code",
   "execution_count": 38,
   "metadata": {},
   "outputs": [],
   "source": [
    "connexion=create_engine(\"sqlite:///./data/salaries.sqlite\")"
   ]
  },
  {
   "cell_type": "code",
   "execution_count": 39,
   "metadata": {},
   "outputs": [
    {
     "data": {
      "text/plain": [
       "['Salaries']"
      ]
     },
     "execution_count": 39,
     "metadata": {},
     "output_type": "execute_result"
    }
   ],
   "source": [
    "connexion.table_names()"
   ]
  },
  {
   "cell_type": "code",
   "execution_count": 40,
   "metadata": {},
   "outputs": [],
   "source": [
    "salaries = pd.read_sql_query(\"select * from salaries\",connexion)"
   ]
  },
  {
   "cell_type": "code",
   "execution_count": 41,
   "metadata": {},
   "outputs": [
    {
     "data": {
      "text/html": [
       "<div>\n",
       "<style scoped>\n",
       "    .dataframe tbody tr th:only-of-type {\n",
       "        vertical-align: middle;\n",
       "    }\n",
       "\n",
       "    .dataframe tbody tr th {\n",
       "        vertical-align: top;\n",
       "    }\n",
       "\n",
       "    .dataframe thead th {\n",
       "        text-align: right;\n",
       "    }\n",
       "</style>\n",
       "<table border=\"1\" class=\"dataframe\">\n",
       "  <thead>\n",
       "    <tr style=\"text-align: right;\">\n",
       "      <th></th>\n",
       "      <th>Id</th>\n",
       "      <th>EmployeeName</th>\n",
       "      <th>JobTitle</th>\n",
       "      <th>BasePay</th>\n",
       "      <th>OvertimePay</th>\n",
       "      <th>OtherPay</th>\n",
       "      <th>Benefits</th>\n",
       "      <th>TotalPay</th>\n",
       "      <th>TotalPayBenefits</th>\n",
       "      <th>Year</th>\n",
       "      <th>Notes</th>\n",
       "      <th>Agency</th>\n",
       "      <th>Status</th>\n",
       "    </tr>\n",
       "  </thead>\n",
       "  <tbody>\n",
       "    <tr>\n",
       "      <th>0</th>\n",
       "      <td>1</td>\n",
       "      <td>NATHANIEL FORD</td>\n",
       "      <td>GENERAL MANAGER-METROPOLITAN TRANSIT AUTHORITY</td>\n",
       "      <td>167411</td>\n",
       "      <td>0</td>\n",
       "      <td>400184</td>\n",
       "      <td></td>\n",
       "      <td>567595.43</td>\n",
       "      <td>567595.43</td>\n",
       "      <td>2011</td>\n",
       "      <td></td>\n",
       "      <td>San Francisco</td>\n",
       "      <td></td>\n",
       "    </tr>\n",
       "    <tr>\n",
       "      <th>1</th>\n",
       "      <td>2</td>\n",
       "      <td>GARY JIMENEZ</td>\n",
       "      <td>CAPTAIN III (POLICE DEPARTMENT)</td>\n",
       "      <td>155966</td>\n",
       "      <td>245132</td>\n",
       "      <td>137811</td>\n",
       "      <td></td>\n",
       "      <td>538909.28</td>\n",
       "      <td>538909.28</td>\n",
       "      <td>2011</td>\n",
       "      <td></td>\n",
       "      <td>San Francisco</td>\n",
       "      <td></td>\n",
       "    </tr>\n",
       "    <tr>\n",
       "      <th>2</th>\n",
       "      <td>3</td>\n",
       "      <td>ALBERT PARDINI</td>\n",
       "      <td>CAPTAIN III (POLICE DEPARTMENT)</td>\n",
       "      <td>212739</td>\n",
       "      <td>106088</td>\n",
       "      <td>16452.6</td>\n",
       "      <td></td>\n",
       "      <td>335279.91</td>\n",
       "      <td>335279.91</td>\n",
       "      <td>2011</td>\n",
       "      <td></td>\n",
       "      <td>San Francisco</td>\n",
       "      <td></td>\n",
       "    </tr>\n",
       "    <tr>\n",
       "      <th>3</th>\n",
       "      <td>4</td>\n",
       "      <td>CHRISTOPHER CHONG</td>\n",
       "      <td>WIRE ROPE CABLE MAINTENANCE MECHANIC</td>\n",
       "      <td>77916</td>\n",
       "      <td>56120.7</td>\n",
       "      <td>198307</td>\n",
       "      <td></td>\n",
       "      <td>332343.61</td>\n",
       "      <td>332343.61</td>\n",
       "      <td>2011</td>\n",
       "      <td></td>\n",
       "      <td>San Francisco</td>\n",
       "      <td></td>\n",
       "    </tr>\n",
       "    <tr>\n",
       "      <th>4</th>\n",
       "      <td>5</td>\n",
       "      <td>PATRICK GARDNER</td>\n",
       "      <td>DEPUTY CHIEF OF DEPARTMENT,(FIRE DEPARTMENT)</td>\n",
       "      <td>134402</td>\n",
       "      <td>9737</td>\n",
       "      <td>182235</td>\n",
       "      <td></td>\n",
       "      <td>326373.19</td>\n",
       "      <td>326373.19</td>\n",
       "      <td>2011</td>\n",
       "      <td></td>\n",
       "      <td>San Francisco</td>\n",
       "      <td></td>\n",
       "    </tr>\n",
       "  </tbody>\n",
       "</table>\n",
       "</div>"
      ],
      "text/plain": [
       "   Id       EmployeeName                                        JobTitle  \\\n",
       "0   1     NATHANIEL FORD  GENERAL MANAGER-METROPOLITAN TRANSIT AUTHORITY   \n",
       "1   2       GARY JIMENEZ                 CAPTAIN III (POLICE DEPARTMENT)   \n",
       "2   3     ALBERT PARDINI                 CAPTAIN III (POLICE DEPARTMENT)   \n",
       "3   4  CHRISTOPHER CHONG            WIRE ROPE CABLE MAINTENANCE MECHANIC   \n",
       "4   5    PATRICK GARDNER    DEPUTY CHIEF OF DEPARTMENT,(FIRE DEPARTMENT)   \n",
       "\n",
       "  BasePay OvertimePay OtherPay Benefits   TotalPay  TotalPayBenefits  Year  \\\n",
       "0  167411           0   400184           567595.43         567595.43  2011   \n",
       "1  155966      245132   137811           538909.28         538909.28  2011   \n",
       "2  212739      106088  16452.6           335279.91         335279.91  2011   \n",
       "3   77916     56120.7   198307           332343.61         332343.61  2011   \n",
       "4  134402        9737   182235           326373.19         326373.19  2011   \n",
       "\n",
       "  Notes         Agency Status  \n",
       "0        San Francisco         \n",
       "1        San Francisco         \n",
       "2        San Francisco         \n",
       "3        San Francisco         \n",
       "4        San Francisco         "
      ]
     },
     "execution_count": 41,
     "metadata": {},
     "output_type": "execute_result"
    }
   ],
   "source": [
    "salaries.head()"
   ]
  },
  {
   "cell_type": "markdown",
   "metadata": {
    "slideshow": {
     "slide_type": "slide"
    }
   },
   "source": [
    "# Les tris avec Pandas \n",
    "\n",
    "Pour effectuer des tris, on utilise :\n",
    "- `.sort_index()` pour le tri des index\n",
    "- `.sort_values()` pour le tri des données\n",
    "- `.rank()` affiche le rang des observations\n",
    "\n",
    "Il peut y avoir plusieurs tris dans la même opération. Dans ce cas, on utilise des listes de colonnes :\n",
    "```python\n",
    "frame.sort_values([\"col_1\",\"col_2\"])\n",
    "```"
   ]
  },
  {
   "cell_type": "markdown",
   "metadata": {
    "slideshow": {
     "slide_type": "subslide"
    }
   },
   "source": [
    "**Exercice :** \n",
    "    \n",
    "Triez les données sur les salaires en se basant sur le BasePay et le JobTitle"
   ]
  },
  {
   "cell_type": "code",
   "execution_count": 42,
   "metadata": {},
   "outputs": [],
   "source": [
    "salaries = salaries.sort_values([\"JobTitle\",\"TotalPay\"],ascending=[True,False])"
   ]
  },
  {
   "cell_type": "code",
   "execution_count": 43,
   "metadata": {},
   "outputs": [
    {
     "name": "stdout",
     "output_type": "stream",
     "text": [
      "<class 'pandas.core.frame.DataFrame'>\n",
      "Int64Index: 148654 entries, 20765 to 18778\n",
      "Data columns (total 13 columns):\n",
      "Id                  148654 non-null int64\n",
      "EmployeeName        148654 non-null object\n",
      "JobTitle            148654 non-null object\n",
      "BasePay             148654 non-null object\n",
      "OvertimePay         148654 non-null object\n",
      "OtherPay            148654 non-null object\n",
      "Benefits            148654 non-null object\n",
      "TotalPay            148654 non-null float64\n",
      "TotalPayBenefits    148654 non-null float64\n",
      "Year                148654 non-null int64\n",
      "Notes               148654 non-null object\n",
      "Agency              148654 non-null object\n",
      "Status              148654 non-null object\n",
      "dtypes: float64(2), int64(2), object(9)\n",
      "memory usage: 15.9+ MB\n"
     ]
    }
   ],
   "source": [
    "salaries.info()"
   ]
  },
  {
   "cell_type": "markdown",
   "metadata": {
    "slideshow": {
     "slide_type": "slide"
    }
   },
   "source": [
    "# Les statistiques simples\n",
    "\n",
    "Les Dataframe possèdent de nombreuses méthodes pour calculer des statistiques simples :\n",
    "- `.sum(axis=0)` permet de faire une somme par colonne\n",
    "- `.sum(axis=1)` permet de faire une somme par ligne\n",
    "- `.min()` et `.max()` donnent le minimum par colonne\n",
    "- `.idxmin()` et `.idxmax()` donnent l’index du minimum et du maximum\n",
    "- `.describe()` affiche un tableau de statistiques descriptives par colonne\n",
    "- `.corr()` pour calculer la corrélation entre les colonnes"
   ]
  },
  {
   "cell_type": "markdown",
   "metadata": {
    "slideshow": {
     "slide_type": "subslide"
    }
   },
   "source": [
    "**Exercice :**\n",
    "    \n",
    "Obtenir les différentes statistiques descriptives pour les données AirBnB.\n"
   ]
  },
  {
   "cell_type": "code",
   "execution_count": 44,
   "metadata": {},
   "outputs": [
    {
     "data": {
      "text/html": [
       "<div>\n",
       "<style scoped>\n",
       "    .dataframe tbody tr th:only-of-type {\n",
       "        vertical-align: middle;\n",
       "    }\n",
       "\n",
       "    .dataframe tbody tr th {\n",
       "        vertical-align: top;\n",
       "    }\n",
       "\n",
       "    .dataframe thead th {\n",
       "        text-align: right;\n",
       "    }\n",
       "</style>\n",
       "<table border=\"1\" class=\"dataframe\">\n",
       "  <thead>\n",
       "    <tr style=\"text-align: right;\">\n",
       "      <th></th>\n",
       "      <th>Id</th>\n",
       "      <th>TotalPay</th>\n",
       "      <th>TotalPayBenefits</th>\n",
       "      <th>Year</th>\n",
       "    </tr>\n",
       "  </thead>\n",
       "  <tbody>\n",
       "    <tr>\n",
       "      <th>count</th>\n",
       "      <td>148654.000000</td>\n",
       "      <td>148654.000000</td>\n",
       "      <td>148654.000000</td>\n",
       "      <td>148654.000000</td>\n",
       "    </tr>\n",
       "    <tr>\n",
       "      <th>mean</th>\n",
       "      <td>74327.500000</td>\n",
       "      <td>74768.321972</td>\n",
       "      <td>93692.554811</td>\n",
       "      <td>2012.522643</td>\n",
       "    </tr>\n",
       "    <tr>\n",
       "      <th>std</th>\n",
       "      <td>42912.857795</td>\n",
       "      <td>50517.005274</td>\n",
       "      <td>62793.533483</td>\n",
       "      <td>1.117538</td>\n",
       "    </tr>\n",
       "    <tr>\n",
       "      <th>min</th>\n",
       "      <td>1.000000</td>\n",
       "      <td>-618.130000</td>\n",
       "      <td>-618.130000</td>\n",
       "      <td>2011.000000</td>\n",
       "    </tr>\n",
       "    <tr>\n",
       "      <th>25%</th>\n",
       "      <td>37164.250000</td>\n",
       "      <td>36168.995000</td>\n",
       "      <td>44065.650000</td>\n",
       "      <td>2012.000000</td>\n",
       "    </tr>\n",
       "    <tr>\n",
       "      <th>50%</th>\n",
       "      <td>74327.500000</td>\n",
       "      <td>71426.610000</td>\n",
       "      <td>92404.090000</td>\n",
       "      <td>2013.000000</td>\n",
       "    </tr>\n",
       "    <tr>\n",
       "      <th>75%</th>\n",
       "      <td>111490.750000</td>\n",
       "      <td>105839.135000</td>\n",
       "      <td>132876.450000</td>\n",
       "      <td>2014.000000</td>\n",
       "    </tr>\n",
       "    <tr>\n",
       "      <th>max</th>\n",
       "      <td>148654.000000</td>\n",
       "      <td>567595.430000</td>\n",
       "      <td>567595.430000</td>\n",
       "      <td>2014.000000</td>\n",
       "    </tr>\n",
       "  </tbody>\n",
       "</table>\n",
       "</div>"
      ],
      "text/plain": [
       "                  Id       TotalPay  TotalPayBenefits           Year\n",
       "count  148654.000000  148654.000000     148654.000000  148654.000000\n",
       "mean    74327.500000   74768.321972      93692.554811    2012.522643\n",
       "std     42912.857795   50517.005274      62793.533483       1.117538\n",
       "min         1.000000    -618.130000       -618.130000    2011.000000\n",
       "25%     37164.250000   36168.995000      44065.650000    2012.000000\n",
       "50%     74327.500000   71426.610000      92404.090000    2013.000000\n",
       "75%    111490.750000  105839.135000     132876.450000    2014.000000\n",
       "max    148654.000000  567595.430000     567595.430000    2014.000000"
      ]
     },
     "execution_count": 44,
     "metadata": {},
     "output_type": "execute_result"
    }
   ],
   "source": [
    "salaries.describe()"
   ]
  },
  {
   "cell_type": "code",
   "execution_count": 45,
   "metadata": {},
   "outputs": [
    {
     "data": {
      "text/html": [
       "<div>\n",
       "<style scoped>\n",
       "    .dataframe tbody tr th:only-of-type {\n",
       "        vertical-align: middle;\n",
       "    }\n",
       "\n",
       "    .dataframe tbody tr th {\n",
       "        vertical-align: top;\n",
       "    }\n",
       "\n",
       "    .dataframe thead th {\n",
       "        text-align: right;\n",
       "    }\n",
       "</style>\n",
       "<table border=\"1\" class=\"dataframe\">\n",
       "  <thead>\n",
       "    <tr style=\"text-align: right;\">\n",
       "      <th></th>\n",
       "      <th>Id</th>\n",
       "      <th>TotalPay</th>\n",
       "      <th>TotalPayBenefits</th>\n",
       "      <th>Year</th>\n",
       "    </tr>\n",
       "  </thead>\n",
       "  <tbody>\n",
       "    <tr>\n",
       "      <th>Id</th>\n",
       "      <td>1.000000</td>\n",
       "      <td>-0.211478</td>\n",
       "      <td>-0.092190</td>\n",
       "      <td>0.968171</td>\n",
       "    </tr>\n",
       "    <tr>\n",
       "      <th>TotalPay</th>\n",
       "      <td>-0.211478</td>\n",
       "      <td>1.000000</td>\n",
       "      <td>0.977313</td>\n",
       "      <td>0.032090</td>\n",
       "    </tr>\n",
       "    <tr>\n",
       "      <th>TotalPayBenefits</th>\n",
       "      <td>-0.092190</td>\n",
       "      <td>0.977313</td>\n",
       "      <td>1.000000</td>\n",
       "      <td>0.151947</td>\n",
       "    </tr>\n",
       "    <tr>\n",
       "      <th>Year</th>\n",
       "      <td>0.968171</td>\n",
       "      <td>0.032090</td>\n",
       "      <td>0.151947</td>\n",
       "      <td>1.000000</td>\n",
       "    </tr>\n",
       "  </tbody>\n",
       "</table>\n",
       "</div>"
      ],
      "text/plain": [
       "                        Id  TotalPay  TotalPayBenefits      Year\n",
       "Id                1.000000 -0.211478         -0.092190  0.968171\n",
       "TotalPay         -0.211478  1.000000          0.977313  0.032090\n",
       "TotalPayBenefits -0.092190  0.977313          1.000000  0.151947\n",
       "Year              0.968171  0.032090          0.151947  1.000000"
      ]
     },
     "execution_count": 45,
     "metadata": {},
     "output_type": "execute_result"
    }
   ],
   "source": [
    "salaries.corr()"
   ]
  },
  {
   "cell_type": "code",
   "execution_count": 46,
   "metadata": {},
   "outputs": [
    {
     "data": {
      "text/plain": [
       "dtype('O')"
      ]
     },
     "execution_count": 46,
     "metadata": {},
     "output_type": "execute_result"
    }
   ],
   "source": [
    "airbnb[\"price\"].dtype"
   ]
  },
  {
   "cell_type": "code",
   "execution_count": 47,
   "metadata": {},
   "outputs": [],
   "source": [
    "airbnb[\"price_num\"] = pd.to_numeric(airbnb[\"price\"].str[1:]\n",
    "                                   .str.replace(\",\",\"\"))"
   ]
  },
  {
   "cell_type": "code",
   "execution_count": 48,
   "metadata": {},
   "outputs": [
    {
     "data": {
      "text/plain": [
       "dtype('float64')"
      ]
     },
     "execution_count": 48,
     "metadata": {},
     "output_type": "execute_result"
    }
   ],
   "source": [
    "airbnb[\"price_num\"].dtype"
   ]
  },
  {
   "cell_type": "code",
   "execution_count": 49,
   "metadata": {},
   "outputs": [
    {
     "data": {
      "text/plain": [
       "9379.0"
      ]
     },
     "execution_count": 49,
     "metadata": {},
     "output_type": "execute_result"
    }
   ],
   "source": [
    "airbnb[\"price_num\"].max()"
   ]
  },
  {
   "cell_type": "code",
   "execution_count": 50,
   "metadata": {},
   "outputs": [
    {
     "data": {
      "text/html": [
       "<div>\n",
       "<style scoped>\n",
       "    .dataframe tbody tr th:only-of-type {\n",
       "        vertical-align: middle;\n",
       "    }\n",
       "\n",
       "    .dataframe tbody tr th {\n",
       "        vertical-align: top;\n",
       "    }\n",
       "\n",
       "    .dataframe thead th {\n",
       "        text-align: right;\n",
       "    }\n",
       "</style>\n",
       "<table border=\"1\" class=\"dataframe\">\n",
       "  <thead>\n",
       "    <tr style=\"text-align: right;\">\n",
       "      <th></th>\n",
       "      <th>id</th>\n",
       "      <th>listing_url</th>\n",
       "      <th>scrape_id</th>\n",
       "      <th>last_scraped</th>\n",
       "      <th>name</th>\n",
       "      <th>summary</th>\n",
       "      <th>space</th>\n",
       "      <th>description</th>\n",
       "      <th>experiences_offered</th>\n",
       "      <th>neighborhood_overview</th>\n",
       "      <th>...</th>\n",
       "      <th>is_business_travel_ready</th>\n",
       "      <th>cancellation_policy</th>\n",
       "      <th>require_guest_profile_picture</th>\n",
       "      <th>require_guest_phone_verification</th>\n",
       "      <th>calculated_host_listings_count</th>\n",
       "      <th>calculated_host_listings_count_entire_homes</th>\n",
       "      <th>calculated_host_listings_count_private_rooms</th>\n",
       "      <th>calculated_host_listings_count_shared_rooms</th>\n",
       "      <th>reviews_per_month</th>\n",
       "      <th>price_num</th>\n",
       "    </tr>\n",
       "  </thead>\n",
       "  <tbody>\n",
       "    <tr>\n",
       "      <th>33559</th>\n",
       "      <td>19974916</td>\n",
       "      <td>https://www.airbnb.com/rooms/19974916</td>\n",
       "      <td>20190507030954</td>\n",
       "      <td>2019-05-07</td>\n",
       "      <td>Petit nid - village de Montmartre</td>\n",
       "      <td>À deux pas de la Basilique du Sacré Cœur. Dans...</td>\n",
       "      <td>À deux pas du Sacré Cœur dans une charmante ru...</td>\n",
       "      <td>À deux pas de la Basilique du Sacré Cœur. Dans...</td>\n",
       "      <td>none</td>\n",
       "      <td>Montmartre!</td>\n",
       "      <td>...</td>\n",
       "      <td>f</td>\n",
       "      <td>strict_14_with_grace_period</td>\n",
       "      <td>f</td>\n",
       "      <td>f</td>\n",
       "      <td>1</td>\n",
       "      <td>1</td>\n",
       "      <td>0</td>\n",
       "      <td>0</td>\n",
       "      <td>2.58</td>\n",
       "      <td>0.0</td>\n",
       "    </tr>\n",
       "    <tr>\n",
       "      <th>34341</th>\n",
       "      <td>20291987</td>\n",
       "      <td>https://www.airbnb.com/rooms/20291987</td>\n",
       "      <td>20190507030954</td>\n",
       "      <td>2019-05-08</td>\n",
       "      <td>Romantic Garden view near Champs-Elysées</td>\n",
       "      <td>Very private, on an inner romantic garden, rem...</td>\n",
       "      <td>The studio offers a well-equipped space and is...</td>\n",
       "      <td>Very private, on an inner romantic garden, rem...</td>\n",
       "      <td>none</td>\n",
       "      <td>Quiet neighborhood, small supermarket across t...</td>\n",
       "      <td>...</td>\n",
       "      <td>f</td>\n",
       "      <td>strict_14_with_grace_period</td>\n",
       "      <td>f</td>\n",
       "      <td>f</td>\n",
       "      <td>5</td>\n",
       "      <td>5</td>\n",
       "      <td>0</td>\n",
       "      <td>0</td>\n",
       "      <td>1.42</td>\n",
       "      <td>0.0</td>\n",
       "    </tr>\n",
       "    <tr>\n",
       "      <th>46598</th>\n",
       "      <td>27546389</td>\n",
       "      <td>https://www.airbnb.com/rooms/27546389</td>\n",
       "      <td>20190507030954</td>\n",
       "      <td>2019-05-07</td>\n",
       "      <td>Appartement familiale dans le 12ème</td>\n",
       "      <td>NaN</td>\n",
       "      <td>Appartement familiale comprenant trois chambre...</td>\n",
       "      <td>Appartement familiale comprenant trois chambre...</td>\n",
       "      <td>none</td>\n",
       "      <td>NaN</td>\n",
       "      <td>...</td>\n",
       "      <td>f</td>\n",
       "      <td>strict_14_with_grace_period</td>\n",
       "      <td>f</td>\n",
       "      <td>f</td>\n",
       "      <td>1</td>\n",
       "      <td>1</td>\n",
       "      <td>0</td>\n",
       "      <td>0</td>\n",
       "      <td>NaN</td>\n",
       "      <td>0.0</td>\n",
       "    </tr>\n",
       "    <tr>\n",
       "      <th>34370</th>\n",
       "      <td>20313940</td>\n",
       "      <td>https://www.airbnb.com/rooms/20313940</td>\n",
       "      <td>20190507030954</td>\n",
       "      <td>2019-05-07</td>\n",
       "      <td>Charming loft in the Upper Marais</td>\n",
       "      <td>Charming artist's loft on the top floor of an ...</td>\n",
       "      <td>The apartment is a single open space with cath...</td>\n",
       "      <td>Charming artist's loft on the top floor of an ...</td>\n",
       "      <td>none</td>\n",
       "      <td>The Upper Marais, where the apartment is locat...</td>\n",
       "      <td>...</td>\n",
       "      <td>f</td>\n",
       "      <td>moderate</td>\n",
       "      <td>f</td>\n",
       "      <td>f</td>\n",
       "      <td>1</td>\n",
       "      <td>1</td>\n",
       "      <td>0</td>\n",
       "      <td>0</td>\n",
       "      <td>1.29</td>\n",
       "      <td>0.0</td>\n",
       "    </tr>\n",
       "    <tr>\n",
       "      <th>34191</th>\n",
       "      <td>20219162</td>\n",
       "      <td>https://www.airbnb.com/rooms/20219162</td>\n",
       "      <td>20190507030954</td>\n",
       "      <td>2019-05-07</td>\n",
       "      <td>Nice &amp; cosy parisian flat</td>\n",
       "      <td>Hello :) Welcome to the best area of Paris ! T...</td>\n",
       "      <td>NaN</td>\n",
       "      <td>Hello :) Welcome to the best area of Paris ! T...</td>\n",
       "      <td>none</td>\n",
       "      <td>NaN</td>\n",
       "      <td>...</td>\n",
       "      <td>f</td>\n",
       "      <td>moderate</td>\n",
       "      <td>f</td>\n",
       "      <td>f</td>\n",
       "      <td>1</td>\n",
       "      <td>1</td>\n",
       "      <td>0</td>\n",
       "      <td>0</td>\n",
       "      <td>0.12</td>\n",
       "      <td>0.0</td>\n",
       "    </tr>\n",
       "  </tbody>\n",
       "</table>\n",
       "<p>5 rows × 107 columns</p>\n",
       "</div>"
      ],
      "text/plain": [
       "             id                            listing_url       scrape_id  \\\n",
       "33559  19974916  https://www.airbnb.com/rooms/19974916  20190507030954   \n",
       "34341  20291987  https://www.airbnb.com/rooms/20291987  20190507030954   \n",
       "46598  27546389  https://www.airbnb.com/rooms/27546389  20190507030954   \n",
       "34370  20313940  https://www.airbnb.com/rooms/20313940  20190507030954   \n",
       "34191  20219162  https://www.airbnb.com/rooms/20219162  20190507030954   \n",
       "\n",
       "      last_scraped                                      name  \\\n",
       "33559   2019-05-07         Petit nid - village de Montmartre   \n",
       "34341   2019-05-08  Romantic Garden view near Champs-Elysées   \n",
       "46598   2019-05-07       Appartement familiale dans le 12ème   \n",
       "34370   2019-05-07         Charming loft in the Upper Marais   \n",
       "34191   2019-05-07                 Nice & cosy parisian flat   \n",
       "\n",
       "                                                 summary  \\\n",
       "33559  À deux pas de la Basilique du Sacré Cœur. Dans...   \n",
       "34341  Very private, on an inner romantic garden, rem...   \n",
       "46598                                                NaN   \n",
       "34370  Charming artist's loft on the top floor of an ...   \n",
       "34191  Hello :) Welcome to the best area of Paris ! T...   \n",
       "\n",
       "                                                   space  \\\n",
       "33559  À deux pas du Sacré Cœur dans une charmante ru...   \n",
       "34341  The studio offers a well-equipped space and is...   \n",
       "46598  Appartement familiale comprenant trois chambre...   \n",
       "34370  The apartment is a single open space with cath...   \n",
       "34191                                                NaN   \n",
       "\n",
       "                                             description experiences_offered  \\\n",
       "33559  À deux pas de la Basilique du Sacré Cœur. Dans...                none   \n",
       "34341  Very private, on an inner romantic garden, rem...                none   \n",
       "46598  Appartement familiale comprenant trois chambre...                none   \n",
       "34370  Charming artist's loft on the top floor of an ...                none   \n",
       "34191  Hello :) Welcome to the best area of Paris ! T...                none   \n",
       "\n",
       "                                   neighborhood_overview  ...  \\\n",
       "33559                                        Montmartre!  ...   \n",
       "34341  Quiet neighborhood, small supermarket across t...  ...   \n",
       "46598                                                NaN  ...   \n",
       "34370  The Upper Marais, where the apartment is locat...  ...   \n",
       "34191                                                NaN  ...   \n",
       "\n",
       "      is_business_travel_ready          cancellation_policy  \\\n",
       "33559                        f  strict_14_with_grace_period   \n",
       "34341                        f  strict_14_with_grace_period   \n",
       "46598                        f  strict_14_with_grace_period   \n",
       "34370                        f                     moderate   \n",
       "34191                        f                     moderate   \n",
       "\n",
       "      require_guest_profile_picture require_guest_phone_verification  \\\n",
       "33559                             f                                f   \n",
       "34341                             f                                f   \n",
       "46598                             f                                f   \n",
       "34370                             f                                f   \n",
       "34191                             f                                f   \n",
       "\n",
       "      calculated_host_listings_count  \\\n",
       "33559                              1   \n",
       "34341                              5   \n",
       "46598                              1   \n",
       "34370                              1   \n",
       "34191                              1   \n",
       "\n",
       "       calculated_host_listings_count_entire_homes  \\\n",
       "33559                                            1   \n",
       "34341                                            5   \n",
       "46598                                            1   \n",
       "34370                                            1   \n",
       "34191                                            1   \n",
       "\n",
       "       calculated_host_listings_count_private_rooms  \\\n",
       "33559                                             0   \n",
       "34341                                             0   \n",
       "46598                                             0   \n",
       "34370                                             0   \n",
       "34191                                             0   \n",
       "\n",
       "      calculated_host_listings_count_shared_rooms  reviews_per_month  \\\n",
       "33559                                           0               2.58   \n",
       "34341                                           0               1.42   \n",
       "46598                                           0                NaN   \n",
       "34370                                           0               1.29   \n",
       "34191                                           0               0.12   \n",
       "\n",
       "       price_num  \n",
       "33559        0.0  \n",
       "34341        0.0  \n",
       "46598        0.0  \n",
       "34370        0.0  \n",
       "34191        0.0  \n",
       "\n",
       "[5 rows x 107 columns]"
      ]
     },
     "execution_count": 50,
     "metadata": {},
     "output_type": "execute_result"
    }
   ],
   "source": [
    "airbnb.sort_values(\"price_num\").head()"
   ]
  },
  {
   "cell_type": "code",
   "execution_count": 51,
   "metadata": {},
   "outputs": [],
   "source": [
    "airbnb[\"last_review_clean\"]=pd.to_datetime(airbnb[\"last_review\"])"
   ]
  },
  {
   "cell_type": "code",
   "execution_count": 52,
   "metadata": {},
   "outputs": [],
   "source": [
    "# si on veut extraire dans une nouvelle colonne le jour de la semaine\n",
    "airbnb[\"last_review_day\"]=airbnb[\"last_review_clean\"].dt.day_name()"
   ]
  },
  {
   "cell_type": "code",
   "execution_count": 53,
   "metadata": {},
   "outputs": [
    {
     "data": {
      "text/plain": [
       "NaN          12934\n",
       "Sunday       10589\n",
       "Monday        8004\n",
       "Friday        6275\n",
       "Saturday      5824\n",
       "Tuesday       5523\n",
       "Thursday      5030\n",
       "Wednesday     4947\n",
       "Name: last_review_day, dtype: int64"
      ]
     },
     "execution_count": 53,
     "metadata": {},
     "output_type": "execute_result"
    }
   ],
   "source": [
    "airbnb[\"last_review_day\"].value_counts(dropna =False)"
   ]
  },
  {
   "cell_type": "code",
   "execution_count": 54,
   "metadata": {},
   "outputs": [],
   "source": [
    "airbnb[\"last_review_day_cat\"] = airbnb[\"last_review_day\"].astype('category')"
   ]
  },
  {
   "cell_type": "code",
   "execution_count": 55,
   "metadata": {},
   "outputs": [
    {
     "data": {
      "text/plain": [
       "0    Wednesday\n",
       "1       Friday\n",
       "2     Saturday\n",
       "3    Wednesday\n",
       "4          NaN\n",
       "Name: last_review_day_cat, dtype: category\n",
       "Categories (7, object): [Friday, Monday, Saturday, Sunday, Thursday, Tuesday, Wednesday]"
      ]
     },
     "execution_count": 55,
     "metadata": {},
     "output_type": "execute_result"
    }
   ],
   "source": [
    "airbnb[\"last_review_day_cat\"].head()"
   ]
  },
  {
   "cell_type": "markdown",
   "metadata": {
    "slideshow": {
     "slide_type": "slide"
    }
   },
   "source": [
    "# Le traitement des données manquantes\n",
    "\n",
    "- Les données manquantes sont identifiées par `NaN`\n",
    "\n",
    "\n",
    "- `.dropna()` permet de retirer les données manquantes dans un objet Series et l’ensemble d’une ligne dans le cas d’un DataFrame\n",
    "- Pour éliminer par colonne, on utilise `.dropna(axis=1)`\n",
    "- Remplacer toutes les données manquantes `.fillna(valeur)`\n"
   ]
  },
  {
   "cell_type": "markdown",
   "metadata": {
    "slideshow": {
     "slide_type": "slide"
    }
   },
   "source": [
    "# Les jointures avec Pandas\n",
    "\n",
    "On veut joindre des jeux de données en utilisant des clés (variables communes)\n",
    "\n",
    "- `pd.merge()` permet de joindre deux DataFrame, on utilise comme options `on='key'`\n",
    "\n",
    "- On peut utiliser comme option `how=`, on peut avoir :\n",
    "    - `left` dans ce cas, on garde le jeu de données à gauche et pour les données de droite des valeurs manquantes sont ajoutées.\n",
    "    - `outer`, on garde toutes les valeurs des deux jeux de données\n",
    "    - ...\n",
    "\n",
    "- On peut avoir plusieurs clés et faire une jointure sur les deux clés `on=['key1','key2']`\n",
    "\n",
    "Pour plus de détails : <http://pandas.pydata.org/pandas-docs/dev/generated/pandas.DataFrame.merge.html>\n"
   ]
  },
  {
   "cell_type": "markdown",
   "metadata": {
    "slideshow": {
     "slide_type": "subslide"
    }
   },
   "source": [
    "**Exercice :**\n",
    "    \n",
    "Joindre deux dataframes (credit1 et credit2).\n"
   ]
  },
  {
   "cell_type": "code",
   "execution_count": 56,
   "metadata": {},
   "outputs": [],
   "source": [
    "credit = pd.read_csv(\"./data/credit1.txt\",sep=\"\\t\")"
   ]
  },
  {
   "cell_type": "code",
   "execution_count": 57,
   "metadata": {},
   "outputs": [],
   "source": [
    "credit_complet = pd.merge(credit2,credit, on= \"Customer_ID\")"
   ]
  },
  {
   "cell_type": "code",
   "execution_count": 58,
   "metadata": {},
   "outputs": [
    {
     "data": {
      "text/html": [
       "<div>\n",
       "<style scoped>\n",
       "    .dataframe tbody tr th:only-of-type {\n",
       "        vertical-align: middle;\n",
       "    }\n",
       "\n",
       "    .dataframe tbody tr th {\n",
       "        vertical-align: top;\n",
       "    }\n",
       "\n",
       "    .dataframe thead th {\n",
       "        text-align: right;\n",
       "    }\n",
       "</style>\n",
       "<table border=\"1\" class=\"dataframe\">\n",
       "  <thead>\n",
       "    <tr style=\"text-align: right;\">\n",
       "      <th></th>\n",
       "      <th>Age</th>\n",
       "      <th>Gender</th>\n",
       "      <th>Marital_Status</th>\n",
       "      <th>Age_Youngest_Child</th>\n",
       "      <th>Number_of_Workers_in_Household</th>\n",
       "      <th>Percentage_White_Collar_Workers</th>\n",
       "      <th>Household_Debt_to_Equity_Ratio</th>\n",
       "      <th>Income</th>\n",
       "      <th>Homeowner</th>\n",
       "      <th>Customer_ID</th>\n",
       "      <th>...</th>\n",
       "      <th>Weeks_Since_Last_Offer</th>\n",
       "      <th>Accepted_Personal_Loan</th>\n",
       "      <th>Accepted_Retention</th>\n",
       "      <th>Accepted_Home_Equity_Loan</th>\n",
       "      <th>Accepted_Credit_Card</th>\n",
       "      <th>Annual_value</th>\n",
       "      <th>Interested_in_Personal_Loan</th>\n",
       "      <th>Interested_in_Retention</th>\n",
       "      <th>Interested_in_Home_Equity_Loan</th>\n",
       "      <th>Interested_in_Credit_Card</th>\n",
       "    </tr>\n",
       "  </thead>\n",
       "  <tbody>\n",
       "    <tr>\n",
       "      <th>0</th>\n",
       "      <td>40</td>\n",
       "      <td>F</td>\n",
       "      <td>S</td>\n",
       "      <td>11</td>\n",
       "      <td>6</td>\n",
       "      <td>37</td>\n",
       "      <td>56</td>\n",
       "      <td>37073</td>\n",
       "      <td>F</td>\n",
       "      <td>5409</td>\n",
       "      <td>...</td>\n",
       "      <td>17</td>\n",
       "      <td>F</td>\n",
       "      <td>F</td>\n",
       "      <td>F</td>\n",
       "      <td>F</td>\n",
       "      <td>90</td>\n",
       "      <td>F</td>\n",
       "      <td>F</td>\n",
       "      <td>F</td>\n",
       "      <td>F</td>\n",
       "    </tr>\n",
       "    <tr>\n",
       "      <th>1</th>\n",
       "      <td>47</td>\n",
       "      <td>M</td>\n",
       "      <td>M</td>\n",
       "      <td>13</td>\n",
       "      <td>13</td>\n",
       "      <td>30</td>\n",
       "      <td>56</td>\n",
       "      <td>50721</td>\n",
       "      <td>F</td>\n",
       "      <td>5477</td>\n",
       "      <td>...</td>\n",
       "      <td>22</td>\n",
       "      <td>F</td>\n",
       "      <td>F</td>\n",
       "      <td>F</td>\n",
       "      <td>F</td>\n",
       "      <td>260</td>\n",
       "      <td>F</td>\n",
       "      <td>F</td>\n",
       "      <td>F</td>\n",
       "      <td>F</td>\n",
       "    </tr>\n",
       "    <tr>\n",
       "      <th>2</th>\n",
       "      <td>35</td>\n",
       "      <td>F</td>\n",
       "      <td>U</td>\n",
       "      <td>1</td>\n",
       "      <td>9</td>\n",
       "      <td>33</td>\n",
       "      <td>57</td>\n",
       "      <td>43578</td>\n",
       "      <td>T</td>\n",
       "      <td>5507</td>\n",
       "      <td>...</td>\n",
       "      <td>27</td>\n",
       "      <td>F</td>\n",
       "      <td>F</td>\n",
       "      <td>T</td>\n",
       "      <td>T</td>\n",
       "      <td>0</td>\n",
       "      <td>F</td>\n",
       "      <td>F</td>\n",
       "      <td>T</td>\n",
       "      <td>F</td>\n",
       "    </tr>\n",
       "    <tr>\n",
       "      <th>3</th>\n",
       "      <td>45</td>\n",
       "      <td>M</td>\n",
       "      <td>U</td>\n",
       "      <td>15</td>\n",
       "      <td>7</td>\n",
       "      <td>30</td>\n",
       "      <td>62</td>\n",
       "      <td>69553</td>\n",
       "      <td>F</td>\n",
       "      <td>8</td>\n",
       "      <td>...</td>\n",
       "      <td>51</td>\n",
       "      <td>F</td>\n",
       "      <td>F</td>\n",
       "      <td>F</td>\n",
       "      <td>F</td>\n",
       "      <td>0</td>\n",
       "      <td>F</td>\n",
       "      <td>T</td>\n",
       "      <td>F</td>\n",
       "      <td>F</td>\n",
       "    </tr>\n",
       "    <tr>\n",
       "      <th>4</th>\n",
       "      <td>13</td>\n",
       "      <td>F</td>\n",
       "      <td>S</td>\n",
       "      <td>0</td>\n",
       "      <td>7</td>\n",
       "      <td>27</td>\n",
       "      <td>64</td>\n",
       "      <td>37502</td>\n",
       "      <td>T</td>\n",
       "      <td>158</td>\n",
       "      <td>...</td>\n",
       "      <td>8</td>\n",
       "      <td>F</td>\n",
       "      <td>F</td>\n",
       "      <td>F</td>\n",
       "      <td>F</td>\n",
       "      <td>0</td>\n",
       "      <td>F</td>\n",
       "      <td>F</td>\n",
       "      <td>T</td>\n",
       "      <td>F</td>\n",
       "    </tr>\n",
       "  </tbody>\n",
       "</table>\n",
       "<p>5 rows × 31 columns</p>\n",
       "</div>"
      ],
      "text/plain": [
       "   Age Gender Marital_Status  Age_Youngest_Child  \\\n",
       "0   40      F              S                  11   \n",
       "1   47      M              M                  13   \n",
       "2   35      F              U                   1   \n",
       "3   45      M              U                  15   \n",
       "4   13      F              S                   0   \n",
       "\n",
       "   Number_of_Workers_in_Household  Percentage_White_Collar_Workers  \\\n",
       "0                               6                               37   \n",
       "1                              13                               30   \n",
       "2                               9                               33   \n",
       "3                               7                               30   \n",
       "4                               7                               27   \n",
       "\n",
       "   Household_Debt_to_Equity_Ratio  Income Homeowner  Customer_ID  ...  \\\n",
       "0                              56   37073         F         5409  ...   \n",
       "1                              56   50721         F         5477  ...   \n",
       "2                              57   43578         T         5507  ...   \n",
       "3                              62   69553         F            8  ...   \n",
       "4                              64   37502         T          158  ...   \n",
       "\n",
       "   Weeks_Since_Last_Offer  Accepted_Personal_Loan  Accepted_Retention  \\\n",
       "0                      17                       F                   F   \n",
       "1                      22                       F                   F   \n",
       "2                      27                       F                   F   \n",
       "3                      51                       F                   F   \n",
       "4                       8                       F                   F   \n",
       "\n",
       "   Accepted_Home_Equity_Loan  Accepted_Credit_Card  Annual_value  \\\n",
       "0                          F                     F            90   \n",
       "1                          F                     F           260   \n",
       "2                          T                     T             0   \n",
       "3                          F                     F             0   \n",
       "4                          F                     F             0   \n",
       "\n",
       "   Interested_in_Personal_Loan  Interested_in_Retention  \\\n",
       "0                            F                        F   \n",
       "1                            F                        F   \n",
       "2                            F                        F   \n",
       "3                            F                        T   \n",
       "4                            F                        F   \n",
       "\n",
       "   Interested_in_Home_Equity_Loan  Interested_in_Credit_Card  \n",
       "0                               F                          F  \n",
       "1                               F                          F  \n",
       "2                               T                          F  \n",
       "3                               F                          F  \n",
       "4                               T                          F  \n",
       "\n",
       "[5 rows x 31 columns]"
      ]
     },
     "execution_count": 58,
     "metadata": {},
     "output_type": "execute_result"
    }
   ],
   "source": [
    "credit_complet.head()"
   ]
  },
  {
   "cell_type": "markdown",
   "metadata": {
    "slideshow": {
     "slide_type": "slide"
    }
   },
   "source": [
    "# Gestion des duplications\n",
    "\n",
    "- On utilise `.duplicated()` ou `.drop_duplicates()` dans le cas où on désire effacer les lignes se répétant\n",
    "\n",
    "\n",
    "- On peut se concentrer sur une seule variables en entrant directement le nom de la variable. Dans ce cas, c’est la première apparition qui compte. Si on veut prendre la dernière apparition, on utilise l’option `keep=\"last\"`. On pourra avoir :\n",
    "```python\n",
    "frame1.drop_duplicates([\"col_0\",\"col_1\"],keep=\"last\")\n",
    "```"
   ]
  },
  {
   "cell_type": "markdown",
   "metadata": {
    "slideshow": {
     "slide_type": "slide"
    }
   },
   "source": [
    "# Discrétisation\n",
    "\n",
    "Pour discrétiser, on utilise la fonction `pd.cut()`, on va définir une liste de points pour discrétiser et on entre cette liste comme second paramètre de la fonction.\n",
    "\n",
    "Une fois discrétisé, on peut afficher les modalités obtenues en utilisant `.categories`\n",
    "\n",
    "On peut aussi compter les occurrence en utilisant `pd.value_counts()`\n",
    "\n",
    "Il est aussi possible d’entrer le nombre de segments comme second paramètre\n",
    "\n",
    "On utilisera aussi `qcut()`"
   ]
  },
  {
   "cell_type": "markdown",
   "metadata": {
    "slideshow": {
     "slide_type": "subslide"
    }
   },
   "source": [
    "**Exercice :**\n",
    "    \n",
    "Créez une variable dans le dataframe AirBnB pour obtenir des niveaux de prix.\n"
   ]
  },
  {
   "cell_type": "code",
   "execution_count": 59,
   "metadata": {},
   "outputs": [],
   "source": [
    "# on transforme notre colonne textuelle en numérique\n",
    "airbnb[\"price_num\"]=pd.to_numeric(airbnb[\"price\"].str.replace(\"$\",\"\").str.replace(\",\",\"\"))"
   ]
  },
  {
   "cell_type": "code",
   "execution_count": 60,
   "metadata": {},
   "outputs": [
    {
     "data": {
      "text/plain": [
       "count    59126.000000\n",
       "mean       116.325982\n",
       "std        167.669754\n",
       "min          0.000000\n",
       "25%         59.000000\n",
       "50%         80.000000\n",
       "75%        120.000000\n",
       "max       9379.000000\n",
       "Name: price_num, dtype: float64"
      ]
     },
     "execution_count": 60,
     "metadata": {},
     "output_type": "execute_result"
    }
   ],
   "source": [
    "airbnb[\"price_num\"].describe()"
   ]
  },
  {
   "cell_type": "code",
   "execution_count": 61,
   "metadata": {},
   "outputs": [
    {
     "data": {
      "text/html": [
       "<div>\n",
       "<style scoped>\n",
       "    .dataframe tbody tr th:only-of-type {\n",
       "        vertical-align: middle;\n",
       "    }\n",
       "\n",
       "    .dataframe tbody tr th {\n",
       "        vertical-align: top;\n",
       "    }\n",
       "\n",
       "    .dataframe thead th {\n",
       "        text-align: right;\n",
       "    }\n",
       "</style>\n",
       "<table border=\"1\" class=\"dataframe\">\n",
       "  <thead>\n",
       "    <tr style=\"text-align: right;\">\n",
       "      <th></th>\n",
       "      <th>id</th>\n",
       "      <th>listing_url</th>\n",
       "      <th>scrape_id</th>\n",
       "      <th>last_scraped</th>\n",
       "      <th>name</th>\n",
       "      <th>summary</th>\n",
       "      <th>space</th>\n",
       "      <th>description</th>\n",
       "      <th>experiences_offered</th>\n",
       "      <th>neighborhood_overview</th>\n",
       "      <th>...</th>\n",
       "      <th>require_guest_phone_verification</th>\n",
       "      <th>calculated_host_listings_count</th>\n",
       "      <th>calculated_host_listings_count_entire_homes</th>\n",
       "      <th>calculated_host_listings_count_private_rooms</th>\n",
       "      <th>calculated_host_listings_count_shared_rooms</th>\n",
       "      <th>reviews_per_month</th>\n",
       "      <th>price_num</th>\n",
       "      <th>last_review_clean</th>\n",
       "      <th>last_review_day</th>\n",
       "      <th>last_review_day_cat</th>\n",
       "    </tr>\n",
       "  </thead>\n",
       "  <tbody>\n",
       "  </tbody>\n",
       "</table>\n",
       "<p>0 rows × 110 columns</p>\n",
       "</div>"
      ],
      "text/plain": [
       "Empty DataFrame\n",
       "Columns: [id, listing_url, scrape_id, last_scraped, name, summary, space, description, experiences_offered, neighborhood_overview, notes, transit, access, interaction, house_rules, thumbnail_url, medium_url, picture_url, xl_picture_url, host_id, host_url, host_name, host_since, host_location, host_about, host_response_time, host_response_rate, host_acceptance_rate, host_is_superhost, host_thumbnail_url, host_picture_url, host_neighbourhood, host_listings_count, host_total_listings_count, host_verifications, host_has_profile_pic, host_identity_verified, street, neighbourhood, neighbourhood_cleansed, neighbourhood_group_cleansed, city, state, zipcode, market, smart_location, country_code, country, latitude, longitude, is_location_exact, property_type, room_type, accommodates, bathrooms, bedrooms, beds, bed_type, amenities, square_feet, price, weekly_price, monthly_price, security_deposit, cleaning_fee, guests_included, extra_people, minimum_nights, maximum_nights, minimum_minimum_nights, maximum_minimum_nights, minimum_maximum_nights, maximum_maximum_nights, minimum_nights_avg_ntm, maximum_nights_avg_ntm, calendar_updated, has_availability, availability_30, availability_60, availability_90, availability_365, calendar_last_scraped, number_of_reviews, number_of_reviews_ltm, first_review, last_review, review_scores_rating, review_scores_accuracy, review_scores_cleanliness, review_scores_checkin, review_scores_communication, review_scores_location, review_scores_value, requires_license, license, jurisdiction_names, instant_bookable, is_business_travel_ready, cancellation_policy, require_guest_profile_picture, ...]\n",
       "Index: []\n",
       "\n",
       "[0 rows x 110 columns]"
      ]
     },
     "execution_count": 61,
     "metadata": {},
     "output_type": "execute_result"
    }
   ],
   "source": [
    "airbnb[airbnb[\"price_num\"]==7790]"
   ]
  },
  {
   "cell_type": "code",
   "execution_count": 62,
   "metadata": {},
   "outputs": [
    {
     "data": {
      "text/plain": [
       "(-9.379, 1875.8]    59078\n",
       "(1875.8, 3751.6]       36\n",
       "(7503.2, 9379.0]        6\n",
       "(3751.6, 5627.4]        6\n",
       "(5627.4, 7503.2]        0\n",
       "Name: price_num, dtype: int64"
      ]
     },
     "execution_count": 62,
     "metadata": {},
     "output_type": "execute_result"
    }
   ],
   "source": [
    "pd.cut(airbnb[\"price_num\"],5).value_counts()"
   ]
  },
  {
   "cell_type": "code",
   "execution_count": 63,
   "metadata": {},
   "outputs": [],
   "source": [
    "airbnb[\"price_disc\"]=pd.qcut(airbnb[\"price_num\"],5)"
   ]
  },
  {
   "cell_type": "markdown",
   "metadata": {
    "slideshow": {
     "slide_type": "slide"
    }
   },
   "source": [
    "# Les tableaux croisés avec Pandas\n",
    "\n",
    "Les DataFrame possèdent des méthodes pour générer des tableaux croisés, notamment :\n",
    "```python\n",
    "frame1.pivot_table()\n",
    "```\n",
    "Cette méthode permet de gérer de nombreux cas avec des fonctions standards et sur mesure."
   ]
  },
  {
   "cell_type": "markdown",
   "metadata": {
    "slideshow": {
     "slide_type": "subslide"
    }
   },
   "source": [
    "**Exercice :**\n",
    "    \n",
    "Afficher un tableau Pivot pour les données AirBnB."
   ]
  },
  {
   "cell_type": "code",
   "execution_count": 64,
   "metadata": {},
   "outputs": [
    {
     "data": {
      "text/html": [
       "<div>\n",
       "<style scoped>\n",
       "    .dataframe tbody tr th:only-of-type {\n",
       "        vertical-align: middle;\n",
       "    }\n",
       "\n",
       "    .dataframe tbody tr th {\n",
       "        vertical-align: top;\n",
       "    }\n",
       "\n",
       "    .dataframe thead tr th {\n",
       "        text-align: left;\n",
       "    }\n",
       "\n",
       "    .dataframe thead tr:last-of-type th {\n",
       "        text-align: right;\n",
       "    }\n",
       "</style>\n",
       "<table border=\"1\" class=\"dataframe\">\n",
       "  <thead>\n",
       "    <tr>\n",
       "      <th></th>\n",
       "      <th colspan=\"2\" halign=\"left\">mean</th>\n",
       "      <th colspan=\"2\" halign=\"left\">count</th>\n",
       "    </tr>\n",
       "    <tr>\n",
       "      <th>host_is_superhost</th>\n",
       "      <th>f</th>\n",
       "      <th>t</th>\n",
       "      <th>f</th>\n",
       "      <th>t</th>\n",
       "    </tr>\n",
       "    <tr>\n",
       "      <th>bedrooms</th>\n",
       "      <th></th>\n",
       "      <th></th>\n",
       "      <th></th>\n",
       "      <th></th>\n",
       "    </tr>\n",
       "  </thead>\n",
       "  <tbody>\n",
       "    <tr>\n",
       "      <th>0.0</th>\n",
       "      <td>72.071250</td>\n",
       "      <td>78.550317</td>\n",
       "      <td>10807.0</td>\n",
       "      <td>1103.0</td>\n",
       "    </tr>\n",
       "    <tr>\n",
       "      <th>1.0</th>\n",
       "      <td>96.946347</td>\n",
       "      <td>101.298266</td>\n",
       "      <td>29989.0</td>\n",
       "      <td>4382.0</td>\n",
       "    </tr>\n",
       "    <tr>\n",
       "      <th>2.0</th>\n",
       "      <td>164.350062</td>\n",
       "      <td>187.021218</td>\n",
       "      <td>8110.0</td>\n",
       "      <td>1084.0</td>\n",
       "    </tr>\n",
       "    <tr>\n",
       "      <th>3.0</th>\n",
       "      <td>273.766132</td>\n",
       "      <td>262.643963</td>\n",
       "      <td>2433.0</td>\n",
       "      <td>323.0</td>\n",
       "    </tr>\n",
       "    <tr>\n",
       "      <th>4.0</th>\n",
       "      <td>395.515625</td>\n",
       "      <td>402.926829</td>\n",
       "      <td>576.0</td>\n",
       "      <td>82.0</td>\n",
       "    </tr>\n",
       "    <tr>\n",
       "      <th>5.0</th>\n",
       "      <td>598.000000</td>\n",
       "      <td>563.875000</td>\n",
       "      <td>102.0</td>\n",
       "      <td>24.0</td>\n",
       "    </tr>\n",
       "    <tr>\n",
       "      <th>6.0</th>\n",
       "      <td>803.470588</td>\n",
       "      <td>507.750000</td>\n",
       "      <td>17.0</td>\n",
       "      <td>4.0</td>\n",
       "    </tr>\n",
       "    <tr>\n",
       "      <th>7.0</th>\n",
       "      <td>961.555556</td>\n",
       "      <td>1030.000000</td>\n",
       "      <td>9.0</td>\n",
       "      <td>3.0</td>\n",
       "    </tr>\n",
       "    <tr>\n",
       "      <th>9.0</th>\n",
       "      <td>1250.000000</td>\n",
       "      <td>NaN</td>\n",
       "      <td>1.0</td>\n",
       "      <td>NaN</td>\n",
       "    </tr>\n",
       "    <tr>\n",
       "      <th>10.0</th>\n",
       "      <td>300.000000</td>\n",
       "      <td>739.000000</td>\n",
       "      <td>1.0</td>\n",
       "      <td>1.0</td>\n",
       "    </tr>\n",
       "    <tr>\n",
       "      <th>38.0</th>\n",
       "      <td>119.000000</td>\n",
       "      <td>NaN</td>\n",
       "      <td>1.0</td>\n",
       "      <td>NaN</td>\n",
       "    </tr>\n",
       "    <tr>\n",
       "      <th>50.0</th>\n",
       "      <td>85.000000</td>\n",
       "      <td>NaN</td>\n",
       "      <td>7.0</td>\n",
       "      <td>NaN</td>\n",
       "    </tr>\n",
       "  </tbody>\n",
       "</table>\n",
       "</div>"
      ],
      "text/plain": [
       "                          mean                 count        \n",
       "host_is_superhost            f            t        f       t\n",
       "bedrooms                                                    \n",
       "0.0                  72.071250    78.550317  10807.0  1103.0\n",
       "1.0                  96.946347   101.298266  29989.0  4382.0\n",
       "2.0                 164.350062   187.021218   8110.0  1084.0\n",
       "3.0                 273.766132   262.643963   2433.0   323.0\n",
       "4.0                 395.515625   402.926829    576.0    82.0\n",
       "5.0                 598.000000   563.875000    102.0    24.0\n",
       "6.0                 803.470588   507.750000     17.0     4.0\n",
       "7.0                 961.555556  1030.000000      9.0     3.0\n",
       "9.0                1250.000000          NaN      1.0     NaN\n",
       "10.0                300.000000   739.000000      1.0     1.0\n",
       "38.0                119.000000          NaN      1.0     NaN\n",
       "50.0                 85.000000          NaN      7.0     NaN"
      ]
     },
     "execution_count": 64,
     "metadata": {},
     "output_type": "execute_result"
    }
   ],
   "source": [
    "airbnb.pivot_table(values=\"price_num\",\n",
    "                   index=\"bedrooms\",\n",
    "                   aggfunc=[\"mean\",\"count\"],\n",
    "                   columns=[\"host_is_superhost\"]\n",
    "                  )"
   ]
  },
  {
   "cell_type": "markdown",
   "metadata": {
    "slideshow": {
     "slide_type": "slide"
    }
   },
   "source": [
    "# L'utilisation de GroupBy sur des DataFrame\n",
    "\n",
    "- `.groupby` permet de rassembler des observations en fonction d’une variable dite de groupe\n",
    "\n",
    "\n",
    "- Par exemple, `frame.groupby('X').mean()` donnera les moyennes par groupes de `X`\n",
    "\n",
    "\n",
    "- On peut aussi utiliser `.size()` pour connaître la taille des groupes et utiliser d’autres fonctions (`.sum()`)\n",
    "\n",
    "\n",
    "- On peut effectuer de nombreuses opérations de traitement avec le groupby\n"
   ]
  },
  {
   "cell_type": "markdown",
   "metadata": {
    "slideshow": {
     "slide_type": "subslide"
    }
   },
   "source": [
    "**Exercice :**\n",
    "    \n",
    "- Données sur les salaires\n",
    "\n",
    "\n",
    "- On utilise le `groupby()` pour rassembler les types d’emploi\n",
    "\n",
    "\n",
    "- Et on calcule des statistiques pour chaque type\n",
    "\n",
    "\n",
    "On peut utiliser la méthode `.agg()` avec par exemple `'mean'` comme paramètre\n",
    "\n",
    "On utilise aussi fréquemment la méthode `.apply()` combinée à une fonction lambda"
   ]
  },
  {
   "cell_type": "code",
   "execution_count": 65,
   "metadata": {},
   "outputs": [],
   "source": [
    "airbnb_group = airbnb.groupby(\"last_review_day\")"
   ]
  },
  {
   "cell_type": "code",
   "execution_count": 66,
   "metadata": {},
   "outputs": [
    {
     "data": {
      "text/plain": [
       "last_review_day\n",
       "Friday       105.882709\n",
       "Monday       106.095202\n",
       "Saturday     110.567995\n",
       "Sunday       106.120219\n",
       "Thursday     113.172366\n",
       "Tuesday      111.266703\n",
       "Wednesday    110.952294\n",
       "Name: price_num, dtype: float64"
      ]
     },
     "execution_count": 66,
     "metadata": {},
     "output_type": "execute_result"
    }
   ],
   "source": [
    "airbnb_group[\"price_num\"].mean()"
   ]
  },
  {
   "cell_type": "code",
   "execution_count": 67,
   "metadata": {},
   "outputs": [],
   "source": [
    "airbnb_group[\"price_num\"].agg([\"mean\",\"std\",\"count\"]).to_excel(\"mes_stat_airbnb.xls\")"
   ]
  },
  {
   "cell_type": "code",
   "execution_count": 68,
   "metadata": {},
   "outputs": [
    {
     "data": {
      "text/plain": [
       "count    59126.000000\n",
       "mean       116.325982\n",
       "std        167.669754\n",
       "min          0.000000\n",
       "25%         59.000000\n",
       "50%         80.000000\n",
       "75%        120.000000\n",
       "max       9379.000000\n",
       "Name: price_num, dtype: float64"
      ]
     },
     "execution_count": 68,
     "metadata": {},
     "output_type": "execute_result"
    }
   ],
   "source": [
    "airbnb[\"price_num\"].describe()"
   ]
  },
  {
   "cell_type": "markdown",
   "metadata": {},
   "source": [
    "**Exercice :**\n",
    "\n",
    "Calculer l'écart entre le salaire min et le salaire max par métier sur les données Salaries"
   ]
  },
  {
   "cell_type": "code",
   "execution_count": 69,
   "metadata": {},
   "outputs": [],
   "source": [
    "frame_minmax = salaries.groupby(\"JobTitle\")[\"TotalPay\"].agg([\"min\",\"max\"])"
   ]
  },
  {
   "cell_type": "code",
   "execution_count": 70,
   "metadata": {},
   "outputs": [],
   "source": [
    "frame_minmax[\"diff\"]=frame_minmax[\"max\"]-frame_minmax[\"min\"]"
   ]
  },
  {
   "cell_type": "code",
   "execution_count": 71,
   "metadata": {},
   "outputs": [
    {
     "data": {
      "text/html": [
       "<div>\n",
       "<style scoped>\n",
       "    .dataframe tbody tr th:only-of-type {\n",
       "        vertical-align: middle;\n",
       "    }\n",
       "\n",
       "    .dataframe tbody tr th {\n",
       "        vertical-align: top;\n",
       "    }\n",
       "\n",
       "    .dataframe thead th {\n",
       "        text-align: right;\n",
       "    }\n",
       "</style>\n",
       "<table border=\"1\" class=\"dataframe\">\n",
       "  <thead>\n",
       "    <tr style=\"text-align: right;\">\n",
       "      <th></th>\n",
       "      <th>diff salaries</th>\n",
       "    </tr>\n",
       "    <tr>\n",
       "      <th>JobTitle</th>\n",
       "      <th></th>\n",
       "    </tr>\n",
       "  </thead>\n",
       "  <tbody>\n",
       "    <tr>\n",
       "      <th>CAPTAIN III (POLICE DEPARTMENT)</th>\n",
       "      <td>446979.91</td>\n",
       "    </tr>\n",
       "    <tr>\n",
       "      <th>Asst Med Examiner</th>\n",
       "      <td>351271.98</td>\n",
       "    </tr>\n",
       "    <tr>\n",
       "      <th>Lieutenant, Fire Suppression</th>\n",
       "      <td>351198.08</td>\n",
       "    </tr>\n",
       "    <tr>\n",
       "      <th>EMT/Paramedic/Firefighter</th>\n",
       "      <td>337204.86</td>\n",
       "    </tr>\n",
       "    <tr>\n",
       "      <th>GENERAL MANAGER-METROPOLITAN TRANSIT AUTHORITY</th>\n",
       "      <td>336768.31</td>\n",
       "    </tr>\n",
       "    <tr>\n",
       "      <th>Electronic Maintenance Tech</th>\n",
       "      <td>331779.65</td>\n",
       "    </tr>\n",
       "    <tr>\n",
       "      <th>Senior Physician Specialist</th>\n",
       "      <td>322582.27</td>\n",
       "    </tr>\n",
       "    <tr>\n",
       "      <th>Deputy Chief 3</th>\n",
       "      <td>322018.53</td>\n",
       "    </tr>\n",
       "    <tr>\n",
       "      <th>Battlion Chief, Fire Suppressi</th>\n",
       "      <td>311433.08</td>\n",
       "    </tr>\n",
       "    <tr>\n",
       "      <th>BATTALION CHIEF, (FIRE DEPARTMENT)</th>\n",
       "      <td>308887.68</td>\n",
       "    </tr>\n",
       "    <tr>\n",
       "      <th>Deputy Sheriff</th>\n",
       "      <td>308434.84</td>\n",
       "    </tr>\n",
       "    <tr>\n",
       "      <th>Battalion Chief, Fire Suppress</th>\n",
       "      <td>307346.51</td>\n",
       "    </tr>\n",
       "    <tr>\n",
       "      <th>Transit Manager 2</th>\n",
       "      <td>298925.33</td>\n",
       "    </tr>\n",
       "    <tr>\n",
       "      <th>Inspector 3</th>\n",
       "      <td>294554.32</td>\n",
       "    </tr>\n",
       "    <tr>\n",
       "      <th>Lieutenant 3</th>\n",
       "      <td>294240.01</td>\n",
       "    </tr>\n",
       "    <tr>\n",
       "      <th>Firefighter</th>\n",
       "      <td>290076.13</td>\n",
       "    </tr>\n",
       "    <tr>\n",
       "      <th>Captain, Fire Suppression</th>\n",
       "      <td>273045.39</td>\n",
       "    </tr>\n",
       "    <tr>\n",
       "      <th>Incident Support Specialist</th>\n",
       "      <td>272664.65</td>\n",
       "    </tr>\n",
       "    <tr>\n",
       "      <th>CAPTAIN, FIRE SUPPRESSION</th>\n",
       "      <td>270443.31</td>\n",
       "    </tr>\n",
       "    <tr>\n",
       "      <th>Police Officer 3</th>\n",
       "      <td>267902.74</td>\n",
       "    </tr>\n",
       "    <tr>\n",
       "      <th>CAPTAIN, EMERGENCYCY MEDICAL SERVICES</th>\n",
       "      <td>267525.72</td>\n",
       "    </tr>\n",
       "    <tr>\n",
       "      <th>Anesthetist</th>\n",
       "      <td>262528.44</td>\n",
       "    </tr>\n",
       "    <tr>\n",
       "      <th>Police Officer 2</th>\n",
       "      <td>262202.07</td>\n",
       "    </tr>\n",
       "    <tr>\n",
       "      <th>Captain 3</th>\n",
       "      <td>258189.61</td>\n",
       "    </tr>\n",
       "    <tr>\n",
       "      <th>Nursing Supervisor</th>\n",
       "      <td>257137.19</td>\n",
       "    </tr>\n",
       "    <tr>\n",
       "      <th>ELECTRONIC MAINTENANCE TECHNICIAN</th>\n",
       "      <td>253652.09</td>\n",
       "    </tr>\n",
       "    <tr>\n",
       "      <th>Sergeant 3</th>\n",
       "      <td>252428.84</td>\n",
       "    </tr>\n",
       "    <tr>\n",
       "      <th>FIREFIGHTER</th>\n",
       "      <td>250312.13</td>\n",
       "    </tr>\n",
       "    <tr>\n",
       "      <th>Manager VIII, MTA</th>\n",
       "      <td>248755.94</td>\n",
       "    </tr>\n",
       "    <tr>\n",
       "      <th>Dept Head V</th>\n",
       "      <td>247703.09</td>\n",
       "    </tr>\n",
       "    <tr>\n",
       "      <th>...</th>\n",
       "      <td>...</td>\n",
       "    </tr>\n",
       "    <tr>\n",
       "      <th>BUILDING SERVICES TECHNICIAN</th>\n",
       "      <td>0.00</td>\n",
       "    </tr>\n",
       "    <tr>\n",
       "      <th>Sr Cnselor, Juv Hall (SFERS)</th>\n",
       "      <td>0.00</td>\n",
       "    </tr>\n",
       "    <tr>\n",
       "      <th>SECRETARY, HEALTH COMMISSION</th>\n",
       "      <td>0.00</td>\n",
       "    </tr>\n",
       "    <tr>\n",
       "      <th>SECRETARY, HUMAN SERVICES COMMISSION</th>\n",
       "      <td>0.00</td>\n",
       "    </tr>\n",
       "    <tr>\n",
       "      <th>SECRETARY, LIBRARY COMMISSION</th>\n",
       "      <td>0.00</td>\n",
       "    </tr>\n",
       "    <tr>\n",
       "      <th>SECRETARY,JUVENILE PROBATION COMMISSION</th>\n",
       "      <td>0.00</td>\n",
       "    </tr>\n",
       "    <tr>\n",
       "      <th>SENIOR BOOK REPAIRER</th>\n",
       "      <td>0.00</td>\n",
       "    </tr>\n",
       "    <tr>\n",
       "      <th>SENIOR CLAIMS INVESTIGATOR</th>\n",
       "      <td>0.00</td>\n",
       "    </tr>\n",
       "    <tr>\n",
       "      <th>Special Assistant 8</th>\n",
       "      <td>0.00</td>\n",
       "    </tr>\n",
       "    <tr>\n",
       "      <th>SENIOR DATA ENTRY OPERATOR</th>\n",
       "      <td>0.00</td>\n",
       "    </tr>\n",
       "    <tr>\n",
       "      <th>BOARD SECRETARY - MUNICIPAL TRANSPORTATION AGENC</th>\n",
       "      <td>0.00</td>\n",
       "    </tr>\n",
       "    <tr>\n",
       "      <th>DIRECTOR, FISCAL SERVICES</th>\n",
       "      <td>0.00</td>\n",
       "    </tr>\n",
       "    <tr>\n",
       "      <th>Pr DistAtty Invstgtor,SpecUnit</th>\n",
       "      <td>0.00</td>\n",
       "    </tr>\n",
       "    <tr>\n",
       "      <th>DIRECTOR, HUMAN RESOURCES</th>\n",
       "      <td>0.00</td>\n",
       "    </tr>\n",
       "    <tr>\n",
       "      <th>ELECTRICAL ENGINEERING ASSOCIATE I</th>\n",
       "      <td>0.00</td>\n",
       "    </tr>\n",
       "    <tr>\n",
       "      <th>ELECTRIC MOTOR REPAIR SUPERVISOR I</th>\n",
       "      <td>0.00</td>\n",
       "    </tr>\n",
       "    <tr>\n",
       "      <th>Drug Court Coordinator</th>\n",
       "      <td>0.00</td>\n",
       "    </tr>\n",
       "    <tr>\n",
       "      <th>Auto Body&amp;Fender Wrk Asst Sprv</th>\n",
       "      <td>0.00</td>\n",
       "    </tr>\n",
       "    <tr>\n",
       "      <th>Public Safety Comm Tech</th>\n",
       "      <td>0.00</td>\n",
       "    </tr>\n",
       "    <tr>\n",
       "      <th>Public Service Aide-Technical</th>\n",
       "      <td>0.00</td>\n",
       "    </tr>\n",
       "    <tr>\n",
       "      <th>RENT BOARD SUPERVISOR</th>\n",
       "      <td>0.00</td>\n",
       "    </tr>\n",
       "    <tr>\n",
       "      <th>Sr Sprv Prob Ofc, Juv Prob</th>\n",
       "      <td>0.00</td>\n",
       "    </tr>\n",
       "    <tr>\n",
       "      <th>ROOFER SUPERVISOR I</th>\n",
       "      <td>0.00</td>\n",
       "    </tr>\n",
       "    <tr>\n",
       "      <th>DISABILITY ACCESS COORDINATOR</th>\n",
       "      <td>0.00</td>\n",
       "    </tr>\n",
       "    <tr>\n",
       "      <th>DIRECTOR, PROBATION SERVICES</th>\n",
       "      <td>0.00</td>\n",
       "    </tr>\n",
       "    <tr>\n",
       "      <th>DIRECTOR, JUVENILE HALL</th>\n",
       "      <td>0.00</td>\n",
       "    </tr>\n",
       "    <tr>\n",
       "      <th>BAKER</th>\n",
       "      <td>0.00</td>\n",
       "    </tr>\n",
       "    <tr>\n",
       "      <th>BARBER</th>\n",
       "      <td>0.00</td>\n",
       "    </tr>\n",
       "    <tr>\n",
       "      <th>DIRECTOR, INFORMATION TECHNOLOGY GROUP</th>\n",
       "      <td>0.00</td>\n",
       "    </tr>\n",
       "    <tr>\n",
       "      <th>ZOO CURATOR</th>\n",
       "      <td>0.00</td>\n",
       "    </tr>\n",
       "  </tbody>\n",
       "</table>\n",
       "<p>2159 rows × 1 columns</p>\n",
       "</div>"
      ],
      "text/plain": [
       "                                                  diff salaries\n",
       "JobTitle                                                       \n",
       "CAPTAIN III (POLICE DEPARTMENT)                       446979.91\n",
       "Asst Med Examiner                                     351271.98\n",
       "Lieutenant, Fire Suppression                          351198.08\n",
       "EMT/Paramedic/Firefighter                             337204.86\n",
       "GENERAL MANAGER-METROPOLITAN TRANSIT AUTHORITY        336768.31\n",
       "Electronic Maintenance Tech                           331779.65\n",
       "Senior Physician Specialist                           322582.27\n",
       "Deputy Chief 3                                        322018.53\n",
       "Battlion Chief, Fire Suppressi                        311433.08\n",
       "BATTALION CHIEF, (FIRE DEPARTMENT)                    308887.68\n",
       "Deputy Sheriff                                        308434.84\n",
       "Battalion Chief, Fire Suppress                        307346.51\n",
       "Transit Manager 2                                     298925.33\n",
       "Inspector 3                                           294554.32\n",
       "Lieutenant 3                                          294240.01\n",
       "Firefighter                                           290076.13\n",
       "Captain, Fire Suppression                             273045.39\n",
       "Incident Support Specialist                           272664.65\n",
       "CAPTAIN, FIRE SUPPRESSION                             270443.31\n",
       "Police Officer 3                                      267902.74\n",
       "CAPTAIN, EMERGENCYCY MEDICAL SERVICES                 267525.72\n",
       "Anesthetist                                           262528.44\n",
       "Police Officer 2                                      262202.07\n",
       "Captain 3                                             258189.61\n",
       "Nursing Supervisor                                    257137.19\n",
       "ELECTRONIC MAINTENANCE TECHNICIAN                     253652.09\n",
       "Sergeant 3                                            252428.84\n",
       "FIREFIGHTER                                           250312.13\n",
       "Manager VIII, MTA                                     248755.94\n",
       "Dept Head V                                           247703.09\n",
       "...                                                         ...\n",
       "BUILDING SERVICES TECHNICIAN                               0.00\n",
       "Sr Cnselor, Juv Hall (SFERS)                               0.00\n",
       "SECRETARY, HEALTH COMMISSION                               0.00\n",
       "SECRETARY, HUMAN SERVICES COMMISSION                       0.00\n",
       "SECRETARY, LIBRARY COMMISSION                              0.00\n",
       "SECRETARY,JUVENILE PROBATION COMMISSION                    0.00\n",
       "SENIOR BOOK REPAIRER                                       0.00\n",
       "SENIOR CLAIMS INVESTIGATOR                                 0.00\n",
       "Special Assistant 8                                        0.00\n",
       "SENIOR DATA ENTRY OPERATOR                                 0.00\n",
       "BOARD SECRETARY - MUNICIPAL TRANSPORTATION AGENC           0.00\n",
       "DIRECTOR, FISCAL SERVICES                                  0.00\n",
       "Pr DistAtty Invstgtor,SpecUnit                             0.00\n",
       "DIRECTOR, HUMAN RESOURCES                                  0.00\n",
       "ELECTRICAL ENGINEERING ASSOCIATE I                         0.00\n",
       "ELECTRIC MOTOR REPAIR SUPERVISOR I                         0.00\n",
       "Drug Court Coordinator                                     0.00\n",
       "Auto Body&Fender Wrk Asst Sprv                             0.00\n",
       "Public Safety Comm Tech                                    0.00\n",
       "Public Service Aide-Technical                              0.00\n",
       "RENT BOARD SUPERVISOR                                      0.00\n",
       "Sr Sprv Prob Ofc, Juv Prob                                 0.00\n",
       "ROOFER SUPERVISOR I                                        0.00\n",
       "DISABILITY ACCESS COORDINATOR                              0.00\n",
       "DIRECTOR, PROBATION SERVICES                               0.00\n",
       "DIRECTOR, JUVENILE HALL                                    0.00\n",
       "BAKER                                                      0.00\n",
       "BARBER                                                     0.00\n",
       "DIRECTOR, INFORMATION TECHNOLOGY GROUP                     0.00\n",
       "ZOO CURATOR                                                0.00\n",
       "\n",
       "[2159 rows x 1 columns]"
      ]
     },
     "execution_count": 71,
     "metadata": {},
     "output_type": "execute_result"
    }
   ],
   "source": [
    "salaries.groupby(\"JobTitle\")[\"TotalPay\"].apply(lambda x : x.max()-x.min()).sort_values(ascending=False)\\\n",
    "                                         .to_frame(name=\"diff salaries\")"
   ]
  },
  {
   "cell_type": "code",
   "execution_count": 72,
   "metadata": {},
   "outputs": [
    {
     "data": {
      "text/html": [
       "<div>\n",
       "<style scoped>\n",
       "    .dataframe tbody tr th:only-of-type {\n",
       "        vertical-align: middle;\n",
       "    }\n",
       "\n",
       "    .dataframe tbody tr th {\n",
       "        vertical-align: top;\n",
       "    }\n",
       "\n",
       "    .dataframe thead th {\n",
       "        text-align: right;\n",
       "    }\n",
       "</style>\n",
       "<table border=\"1\" class=\"dataframe\">\n",
       "  <thead>\n",
       "    <tr style=\"text-align: right;\">\n",
       "      <th></th>\n",
       "      <th>min</th>\n",
       "      <th>max</th>\n",
       "      <th>&lt;lambda&gt;</th>\n",
       "      <th>count</th>\n",
       "    </tr>\n",
       "    <tr>\n",
       "      <th>JobTitle</th>\n",
       "      <th></th>\n",
       "      <th></th>\n",
       "      <th></th>\n",
       "      <th></th>\n",
       "    </tr>\n",
       "  </thead>\n",
       "  <tbody>\n",
       "    <tr>\n",
       "      <th>ACCOUNT CLERK</th>\n",
       "      <td>614.00</td>\n",
       "      <td>60838.20</td>\n",
       "      <td>60224.20</td>\n",
       "      <td>83</td>\n",
       "    </tr>\n",
       "    <tr>\n",
       "      <th>ACCOUNTANT</th>\n",
       "      <td>1148.40</td>\n",
       "      <td>65392.01</td>\n",
       "      <td>64243.61</td>\n",
       "      <td>5</td>\n",
       "    </tr>\n",
       "    <tr>\n",
       "      <th>ACCOUNTANT INTERN</th>\n",
       "      <td>2981.53</td>\n",
       "      <td>58799.53</td>\n",
       "      <td>55818.00</td>\n",
       "      <td>48</td>\n",
       "    </tr>\n",
       "    <tr>\n",
       "      <th>ACPO,JuvP, Juv Prob (SFERS)</th>\n",
       "      <td>62290.78</td>\n",
       "      <td>62290.78</td>\n",
       "      <td>0.00</td>\n",
       "      <td>1</td>\n",
       "    </tr>\n",
       "    <tr>\n",
       "      <th>ACUPUNCTURIST</th>\n",
       "      <td>67594.40</td>\n",
       "      <td>67594.40</td>\n",
       "      <td>0.00</td>\n",
       "      <td>1</td>\n",
       "    </tr>\n",
       "    <tr>\n",
       "      <th>ADMINISTRATIVE ANALYST</th>\n",
       "      <td>2388.24</td>\n",
       "      <td>79754.03</td>\n",
       "      <td>77365.79</td>\n",
       "      <td>93</td>\n",
       "    </tr>\n",
       "    <tr>\n",
       "      <th>ADMINISTRATIVE ANALYST II</th>\n",
       "      <td>47408.25</td>\n",
       "      <td>75585.82</td>\n",
       "      <td>28177.57</td>\n",
       "      <td>2</td>\n",
       "    </tr>\n",
       "    <tr>\n",
       "      <th>ADMINISTRATIVE ANALYST III</th>\n",
       "      <td>92550.03</td>\n",
       "      <td>92847.00</td>\n",
       "      <td>296.97</td>\n",
       "      <td>2</td>\n",
       "    </tr>\n",
       "    <tr>\n",
       "      <th>ADMINISTRATIVE ENGINEER</th>\n",
       "      <td>91833.33</td>\n",
       "      <td>149322.23</td>\n",
       "      <td>57488.90</td>\n",
       "      <td>10</td>\n",
       "    </tr>\n",
       "    <tr>\n",
       "      <th>ADMINISTRATIVE SERVICES MANAGER</th>\n",
       "      <td>54261.37</td>\n",
       "      <td>92002.00</td>\n",
       "      <td>37740.63</td>\n",
       "      <td>3</td>\n",
       "    </tr>\n",
       "    <tr>\n",
       "      <th>ADMINISTRATOR, SFGH MEDICAL CENTER</th>\n",
       "      <td>257124.44</td>\n",
       "      <td>257124.44</td>\n",
       "      <td>0.00</td>\n",
       "      <td>1</td>\n",
       "    </tr>\n",
       "    <tr>\n",
       "      <th>AFFIRMATIVE ACTION SPECIALIST</th>\n",
       "      <td>13872.50</td>\n",
       "      <td>79696.00</td>\n",
       "      <td>65823.50</td>\n",
       "      <td>6</td>\n",
       "    </tr>\n",
       "    <tr>\n",
       "      <th>AGRICULTURAL INSPECTOR</th>\n",
       "      <td>48787.60</td>\n",
       "      <td>58384.60</td>\n",
       "      <td>9597.00</td>\n",
       "      <td>2</td>\n",
       "    </tr>\n",
       "    <tr>\n",
       "      <th>AIRPORT ASSISTANT DEPUTY DIRECTOR, BUSINESS ADMINI</th>\n",
       "      <td>1927.50</td>\n",
       "      <td>1927.50</td>\n",
       "      <td>0.00</td>\n",
       "      <td>1</td>\n",
       "    </tr>\n",
       "    <tr>\n",
       "      <th>AIRPORT ASSISTANT DEPUTY DIRECTOR, OPERATIONS</th>\n",
       "      <td>15420.00</td>\n",
       "      <td>15420.00</td>\n",
       "      <td>0.00</td>\n",
       "      <td>1</td>\n",
       "    </tr>\n",
       "    <tr>\n",
       "      <th>AIRPORT COMMUNICATIONS OPERATOR</th>\n",
       "      <td>40624.68</td>\n",
       "      <td>106776.25</td>\n",
       "      <td>66151.57</td>\n",
       "      <td>27</td>\n",
       "    </tr>\n",
       "    <tr>\n",
       "      <th>AIRPORT COMMUNICATIONS SUPERVISOR</th>\n",
       "      <td>87876.34</td>\n",
       "      <td>88483.66</td>\n",
       "      <td>607.32</td>\n",
       "      <td>2</td>\n",
       "    </tr>\n",
       "    <tr>\n",
       "      <th>AIRPORT ECONOMIC PLANNER</th>\n",
       "      <td>101590.74</td>\n",
       "      <td>111811.72</td>\n",
       "      <td>10220.98</td>\n",
       "      <td>13</td>\n",
       "    </tr>\n",
       "    <tr>\n",
       "      <th>AIRPORT ELECTRICIAN</th>\n",
       "      <td>98061.21</td>\n",
       "      <td>118617.32</td>\n",
       "      <td>20556.11</td>\n",
       "      <td>17</td>\n",
       "    </tr>\n",
       "    <tr>\n",
       "      <th>AIRPORT ELECTRICIAN SUPERVISOR</th>\n",
       "      <td>115592.12</td>\n",
       "      <td>118585.40</td>\n",
       "      <td>2993.28</td>\n",
       "      <td>2</td>\n",
       "    </tr>\n",
       "    <tr>\n",
       "      <th>AIRPORT EMERGENCY PLANNING COORDINATOR</th>\n",
       "      <td>64095.68</td>\n",
       "      <td>87636.19</td>\n",
       "      <td>23540.51</td>\n",
       "      <td>2</td>\n",
       "    </tr>\n",
       "    <tr>\n",
       "      <th>AIRPORT MECHANICAL MAINTENANCE SUPERVISOR</th>\n",
       "      <td>128534.17</td>\n",
       "      <td>128534.17</td>\n",
       "      <td>0.00</td>\n",
       "      <td>1</td>\n",
       "    </tr>\n",
       "    <tr>\n",
       "      <th>AIRPORT NOISE ABATEMENT SPECIALIST</th>\n",
       "      <td>36357.60</td>\n",
       "      <td>62636.85</td>\n",
       "      <td>26279.25</td>\n",
       "      <td>2</td>\n",
       "    </tr>\n",
       "    <tr>\n",
       "      <th>AIRPORT OPERATIONS SUPERVISOR</th>\n",
       "      <td>78980.27</td>\n",
       "      <td>113567.70</td>\n",
       "      <td>34587.43</td>\n",
       "      <td>12</td>\n",
       "    </tr>\n",
       "    <tr>\n",
       "      <th>AIRPORT POLICE SERVICES AIDE</th>\n",
       "      <td>2726.46</td>\n",
       "      <td>89305.55</td>\n",
       "      <td>86579.09</td>\n",
       "      <td>187</td>\n",
       "    </tr>\n",
       "    <tr>\n",
       "      <th>AIRPORT PROPERTY SPECIALIST I</th>\n",
       "      <td>15855.49</td>\n",
       "      <td>94667.43</td>\n",
       "      <td>78811.94</td>\n",
       "      <td>13</td>\n",
       "    </tr>\n",
       "    <tr>\n",
       "      <th>AIRPORT SAFETY OFFICER</th>\n",
       "      <td>3114.54</td>\n",
       "      <td>97733.68</td>\n",
       "      <td>94619.14</td>\n",
       "      <td>40</td>\n",
       "    </tr>\n",
       "    <tr>\n",
       "      <th>ANESTHETIST</th>\n",
       "      <td>2220.08</td>\n",
       "      <td>238879.20</td>\n",
       "      <td>236659.12</td>\n",
       "      <td>25</td>\n",
       "    </tr>\n",
       "    <tr>\n",
       "      <th>ANIMAL CARE ASSISTANT SUPERVISOR</th>\n",
       "      <td>56298.62</td>\n",
       "      <td>56298.62</td>\n",
       "      <td>0.00</td>\n",
       "      <td>1</td>\n",
       "    </tr>\n",
       "    <tr>\n",
       "      <th>ANIMAL CARE ATTENDANT</th>\n",
       "      <td>4209.81</td>\n",
       "      <td>57687.01</td>\n",
       "      <td>53477.20</td>\n",
       "      <td>14</td>\n",
       "    </tr>\n",
       "    <tr>\n",
       "      <th>...</th>\n",
       "      <td>...</td>\n",
       "      <td>...</td>\n",
       "      <td>...</td>\n",
       "      <td>...</td>\n",
       "    </tr>\n",
       "    <tr>\n",
       "      <th>Wastewater Control Inspector</th>\n",
       "      <td>0.00</td>\n",
       "      <td>111215.85</td>\n",
       "      <td>111215.85</td>\n",
       "      <td>26</td>\n",
       "    </tr>\n",
       "    <tr>\n",
       "      <th>Water &amp; Power Maint Sprv 1</th>\n",
       "      <td>94465.37</td>\n",
       "      <td>130990.98</td>\n",
       "      <td>36525.61</td>\n",
       "      <td>9</td>\n",
       "    </tr>\n",
       "    <tr>\n",
       "      <th>Water Conservation Admin</th>\n",
       "      <td>96543.52</td>\n",
       "      <td>119757.04</td>\n",
       "      <td>23213.52</td>\n",
       "      <td>12</td>\n",
       "    </tr>\n",
       "    <tr>\n",
       "      <th>Water Const&amp;Main Supt</th>\n",
       "      <td>105440.93</td>\n",
       "      <td>184533.89</td>\n",
       "      <td>79092.96</td>\n",
       "      <td>5</td>\n",
       "    </tr>\n",
       "    <tr>\n",
       "      <th>Water Meter Repairer</th>\n",
       "      <td>9991.53</td>\n",
       "      <td>79477.19</td>\n",
       "      <td>69485.66</td>\n",
       "      <td>18</td>\n",
       "    </tr>\n",
       "    <tr>\n",
       "      <th>Water Meter Shop Supervisor 1</th>\n",
       "      <td>63223.88</td>\n",
       "      <td>85677.15</td>\n",
       "      <td>22453.27</td>\n",
       "      <td>2</td>\n",
       "    </tr>\n",
       "    <tr>\n",
       "      <th>Water Operations Analyst</th>\n",
       "      <td>3343.45</td>\n",
       "      <td>152848.32</td>\n",
       "      <td>149504.87</td>\n",
       "      <td>35</td>\n",
       "    </tr>\n",
       "    <tr>\n",
       "      <th>Water Quality Tech III</th>\n",
       "      <td>3240.19</td>\n",
       "      <td>91042.52</td>\n",
       "      <td>87802.33</td>\n",
       "      <td>24</td>\n",
       "    </tr>\n",
       "    <tr>\n",
       "      <th>Water Quality Technician</th>\n",
       "      <td>9290.16</td>\n",
       "      <td>94296.56</td>\n",
       "      <td>85006.40</td>\n",
       "      <td>32</td>\n",
       "    </tr>\n",
       "    <tr>\n",
       "      <th>Water QualityTech I/II</th>\n",
       "      <td>0.00</td>\n",
       "      <td>93521.01</td>\n",
       "      <td>93521.01</td>\n",
       "      <td>69</td>\n",
       "    </tr>\n",
       "    <tr>\n",
       "      <th>Water Service Inspector</th>\n",
       "      <td>9181.41</td>\n",
       "      <td>130395.10</td>\n",
       "      <td>121213.69</td>\n",
       "      <td>82</td>\n",
       "    </tr>\n",
       "    <tr>\n",
       "      <th>Watershed Forester</th>\n",
       "      <td>98241.69</td>\n",
       "      <td>101999.83</td>\n",
       "      <td>3758.14</td>\n",
       "      <td>6</td>\n",
       "    </tr>\n",
       "    <tr>\n",
       "      <th>Watershed Keeper</th>\n",
       "      <td>12688.65</td>\n",
       "      <td>95788.66</td>\n",
       "      <td>83100.01</td>\n",
       "      <td>76</td>\n",
       "    </tr>\n",
       "    <tr>\n",
       "      <th>Watershed Keeper Supervisor</th>\n",
       "      <td>76521.93</td>\n",
       "      <td>93049.05</td>\n",
       "      <td>16527.12</td>\n",
       "      <td>8</td>\n",
       "    </tr>\n",
       "    <tr>\n",
       "      <th>Watershed Worker (Seasonal)</th>\n",
       "      <td>293.40</td>\n",
       "      <td>20952.00</td>\n",
       "      <td>20658.60</td>\n",
       "      <td>86</td>\n",
       "    </tr>\n",
       "    <tr>\n",
       "      <th>Welder</th>\n",
       "      <td>584.41</td>\n",
       "      <td>190014.48</td>\n",
       "      <td>189430.07</td>\n",
       "      <td>38</td>\n",
       "    </tr>\n",
       "    <tr>\n",
       "      <th>Welfare Fraud Investigator</th>\n",
       "      <td>14990.06</td>\n",
       "      <td>97367.45</td>\n",
       "      <td>82377.39</td>\n",
       "      <td>16</td>\n",
       "    </tr>\n",
       "    <tr>\n",
       "      <th>Wharfinger 1</th>\n",
       "      <td>29629.28</td>\n",
       "      <td>67297.46</td>\n",
       "      <td>37668.18</td>\n",
       "      <td>3</td>\n",
       "    </tr>\n",
       "    <tr>\n",
       "      <th>Wharfinger 2</th>\n",
       "      <td>33137.31</td>\n",
       "      <td>83930.51</td>\n",
       "      <td>50793.20</td>\n",
       "      <td>10</td>\n",
       "    </tr>\n",
       "    <tr>\n",
       "      <th>Window Cleaner</th>\n",
       "      <td>4024.85</td>\n",
       "      <td>78582.24</td>\n",
       "      <td>74557.39</td>\n",
       "      <td>50</td>\n",
       "    </tr>\n",
       "    <tr>\n",
       "      <th>Window Cleaner Supervisor</th>\n",
       "      <td>73329.00</td>\n",
       "      <td>80074.53</td>\n",
       "      <td>6745.53</td>\n",
       "      <td>3</td>\n",
       "    </tr>\n",
       "    <tr>\n",
       "      <th>Wire Rope Cable Maint Mechanic</th>\n",
       "      <td>0.00</td>\n",
       "      <td>189630.64</td>\n",
       "      <td>189630.64</td>\n",
       "      <td>30</td>\n",
       "    </tr>\n",
       "    <tr>\n",
       "      <th>Wire Rope Cable Maint Sprv</th>\n",
       "      <td>190575.90</td>\n",
       "      <td>224833.47</td>\n",
       "      <td>34257.57</td>\n",
       "      <td>3</td>\n",
       "    </tr>\n",
       "    <tr>\n",
       "      <th>Worker's Comp Supervisor 1</th>\n",
       "      <td>56.64</td>\n",
       "      <td>108810.03</td>\n",
       "      <td>108753.39</td>\n",
       "      <td>14</td>\n",
       "    </tr>\n",
       "    <tr>\n",
       "      <th>Worker's Compensation Adjuster</th>\n",
       "      <td>1837.39</td>\n",
       "      <td>106050.66</td>\n",
       "      <td>104213.27</td>\n",
       "      <td>74</td>\n",
       "    </tr>\n",
       "    <tr>\n",
       "      <th>X-RAY LABORATORY AIDE</th>\n",
       "      <td>5343.69</td>\n",
       "      <td>85077.40</td>\n",
       "      <td>79733.71</td>\n",
       "      <td>26</td>\n",
       "    </tr>\n",
       "    <tr>\n",
       "      <th>X-Ray Laboratory Aide</th>\n",
       "      <td>1007.00</td>\n",
       "      <td>99812.97</td>\n",
       "      <td>98805.97</td>\n",
       "      <td>100</td>\n",
       "    </tr>\n",
       "    <tr>\n",
       "      <th>YOUTH COMMISSION ADVISOR, BOARD OF SUPERVISORS</th>\n",
       "      <td>53632.87</td>\n",
       "      <td>53632.87</td>\n",
       "      <td>0.00</td>\n",
       "      <td>1</td>\n",
       "    </tr>\n",
       "    <tr>\n",
       "      <th>Youth Comm Advisor</th>\n",
       "      <td>19212.71</td>\n",
       "      <td>57544.73</td>\n",
       "      <td>38332.02</td>\n",
       "      <td>4</td>\n",
       "    </tr>\n",
       "    <tr>\n",
       "      <th>ZOO CURATOR</th>\n",
       "      <td>66686.56</td>\n",
       "      <td>66686.56</td>\n",
       "      <td>0.00</td>\n",
       "      <td>1</td>\n",
       "    </tr>\n",
       "  </tbody>\n",
       "</table>\n",
       "<p>2159 rows × 4 columns</p>\n",
       "</div>"
      ],
      "text/plain": [
       "                                                          min        max  \\\n",
       "JobTitle                                                                   \n",
       "ACCOUNT CLERK                                          614.00   60838.20   \n",
       "ACCOUNTANT                                            1148.40   65392.01   \n",
       "ACCOUNTANT INTERN                                     2981.53   58799.53   \n",
       "ACPO,JuvP, Juv Prob (SFERS)                          62290.78   62290.78   \n",
       "ACUPUNCTURIST                                        67594.40   67594.40   \n",
       "ADMINISTRATIVE ANALYST                                2388.24   79754.03   \n",
       "ADMINISTRATIVE ANALYST II                            47408.25   75585.82   \n",
       "ADMINISTRATIVE ANALYST III                           92550.03   92847.00   \n",
       "ADMINISTRATIVE ENGINEER                              91833.33  149322.23   \n",
       "ADMINISTRATIVE SERVICES MANAGER                      54261.37   92002.00   \n",
       "ADMINISTRATOR, SFGH MEDICAL CENTER                  257124.44  257124.44   \n",
       "AFFIRMATIVE ACTION SPECIALIST                        13872.50   79696.00   \n",
       "AGRICULTURAL INSPECTOR                               48787.60   58384.60   \n",
       "AIRPORT ASSISTANT DEPUTY DIRECTOR, BUSINESS ADMINI    1927.50    1927.50   \n",
       "AIRPORT ASSISTANT DEPUTY DIRECTOR, OPERATIONS        15420.00   15420.00   \n",
       "AIRPORT COMMUNICATIONS OPERATOR                      40624.68  106776.25   \n",
       "AIRPORT COMMUNICATIONS SUPERVISOR                    87876.34   88483.66   \n",
       "AIRPORT ECONOMIC PLANNER                            101590.74  111811.72   \n",
       "AIRPORT ELECTRICIAN                                  98061.21  118617.32   \n",
       "AIRPORT ELECTRICIAN SUPERVISOR                      115592.12  118585.40   \n",
       "AIRPORT EMERGENCY PLANNING COORDINATOR               64095.68   87636.19   \n",
       "AIRPORT MECHANICAL MAINTENANCE SUPERVISOR           128534.17  128534.17   \n",
       "AIRPORT NOISE ABATEMENT SPECIALIST                   36357.60   62636.85   \n",
       "AIRPORT OPERATIONS SUPERVISOR                        78980.27  113567.70   \n",
       "AIRPORT POLICE SERVICES AIDE                          2726.46   89305.55   \n",
       "AIRPORT PROPERTY SPECIALIST I                        15855.49   94667.43   \n",
       "AIRPORT SAFETY OFFICER                                3114.54   97733.68   \n",
       "ANESTHETIST                                           2220.08  238879.20   \n",
       "ANIMAL CARE ASSISTANT SUPERVISOR                     56298.62   56298.62   \n",
       "ANIMAL CARE ATTENDANT                                 4209.81   57687.01   \n",
       "...                                                       ...        ...   \n",
       "Wastewater Control Inspector                             0.00  111215.85   \n",
       "Water & Power Maint Sprv 1                           94465.37  130990.98   \n",
       "Water Conservation Admin                             96543.52  119757.04   \n",
       "Water Const&Main Supt                               105440.93  184533.89   \n",
       "Water Meter Repairer                                  9991.53   79477.19   \n",
       "Water Meter Shop Supervisor 1                        63223.88   85677.15   \n",
       "Water Operations Analyst                              3343.45  152848.32   \n",
       "Water Quality Tech III                                3240.19   91042.52   \n",
       "Water Quality Technician                              9290.16   94296.56   \n",
       "Water QualityTech I/II                                   0.00   93521.01   \n",
       "Water Service Inspector                               9181.41  130395.10   \n",
       "Watershed Forester                                   98241.69  101999.83   \n",
       "Watershed Keeper                                     12688.65   95788.66   \n",
       "Watershed Keeper Supervisor                          76521.93   93049.05   \n",
       "Watershed Worker (Seasonal)                            293.40   20952.00   \n",
       "Welder                                                 584.41  190014.48   \n",
       "Welfare Fraud Investigator                           14990.06   97367.45   \n",
       "Wharfinger 1                                         29629.28   67297.46   \n",
       "Wharfinger 2                                         33137.31   83930.51   \n",
       "Window Cleaner                                        4024.85   78582.24   \n",
       "Window Cleaner Supervisor                            73329.00   80074.53   \n",
       "Wire Rope Cable Maint Mechanic                           0.00  189630.64   \n",
       "Wire Rope Cable Maint Sprv                          190575.90  224833.47   \n",
       "Worker's Comp Supervisor 1                              56.64  108810.03   \n",
       "Worker's Compensation Adjuster                        1837.39  106050.66   \n",
       "X-RAY LABORATORY AIDE                                 5343.69   85077.40   \n",
       "X-Ray Laboratory Aide                                 1007.00   99812.97   \n",
       "YOUTH COMMISSION ADVISOR, BOARD OF SUPERVISORS       53632.87   53632.87   \n",
       "Youth Comm Advisor                                   19212.71   57544.73   \n",
       "ZOO CURATOR                                          66686.56   66686.56   \n",
       "\n",
       "                                                     <lambda>  count  \n",
       "JobTitle                                                              \n",
       "ACCOUNT CLERK                                        60224.20     83  \n",
       "ACCOUNTANT                                           64243.61      5  \n",
       "ACCOUNTANT INTERN                                    55818.00     48  \n",
       "ACPO,JuvP, Juv Prob (SFERS)                              0.00      1  \n",
       "ACUPUNCTURIST                                            0.00      1  \n",
       "ADMINISTRATIVE ANALYST                               77365.79     93  \n",
       "ADMINISTRATIVE ANALYST II                            28177.57      2  \n",
       "ADMINISTRATIVE ANALYST III                             296.97      2  \n",
       "ADMINISTRATIVE ENGINEER                              57488.90     10  \n",
       "ADMINISTRATIVE SERVICES MANAGER                      37740.63      3  \n",
       "ADMINISTRATOR, SFGH MEDICAL CENTER                       0.00      1  \n",
       "AFFIRMATIVE ACTION SPECIALIST                        65823.50      6  \n",
       "AGRICULTURAL INSPECTOR                                9597.00      2  \n",
       "AIRPORT ASSISTANT DEPUTY DIRECTOR, BUSINESS ADMINI       0.00      1  \n",
       "AIRPORT ASSISTANT DEPUTY DIRECTOR, OPERATIONS            0.00      1  \n",
       "AIRPORT COMMUNICATIONS OPERATOR                      66151.57     27  \n",
       "AIRPORT COMMUNICATIONS SUPERVISOR                      607.32      2  \n",
       "AIRPORT ECONOMIC PLANNER                             10220.98     13  \n",
       "AIRPORT ELECTRICIAN                                  20556.11     17  \n",
       "AIRPORT ELECTRICIAN SUPERVISOR                        2993.28      2  \n",
       "AIRPORT EMERGENCY PLANNING COORDINATOR               23540.51      2  \n",
       "AIRPORT MECHANICAL MAINTENANCE SUPERVISOR                0.00      1  \n",
       "AIRPORT NOISE ABATEMENT SPECIALIST                   26279.25      2  \n",
       "AIRPORT OPERATIONS SUPERVISOR                        34587.43     12  \n",
       "AIRPORT POLICE SERVICES AIDE                         86579.09    187  \n",
       "AIRPORT PROPERTY SPECIALIST I                        78811.94     13  \n",
       "AIRPORT SAFETY OFFICER                               94619.14     40  \n",
       "ANESTHETIST                                         236659.12     25  \n",
       "ANIMAL CARE ASSISTANT SUPERVISOR                         0.00      1  \n",
       "ANIMAL CARE ATTENDANT                                53477.20     14  \n",
       "...                                                       ...    ...  \n",
       "Wastewater Control Inspector                        111215.85     26  \n",
       "Water & Power Maint Sprv 1                           36525.61      9  \n",
       "Water Conservation Admin                             23213.52     12  \n",
       "Water Const&Main Supt                                79092.96      5  \n",
       "Water Meter Repairer                                 69485.66     18  \n",
       "Water Meter Shop Supervisor 1                        22453.27      2  \n",
       "Water Operations Analyst                            149504.87     35  \n",
       "Water Quality Tech III                               87802.33     24  \n",
       "Water Quality Technician                             85006.40     32  \n",
       "Water QualityTech I/II                               93521.01     69  \n",
       "Water Service Inspector                             121213.69     82  \n",
       "Watershed Forester                                    3758.14      6  \n",
       "Watershed Keeper                                     83100.01     76  \n",
       "Watershed Keeper Supervisor                          16527.12      8  \n",
       "Watershed Worker (Seasonal)                          20658.60     86  \n",
       "Welder                                              189430.07     38  \n",
       "Welfare Fraud Investigator                           82377.39     16  \n",
       "Wharfinger 1                                         37668.18      3  \n",
       "Wharfinger 2                                         50793.20     10  \n",
       "Window Cleaner                                       74557.39     50  \n",
       "Window Cleaner Supervisor                             6745.53      3  \n",
       "Wire Rope Cable Maint Mechanic                      189630.64     30  \n",
       "Wire Rope Cable Maint Sprv                           34257.57      3  \n",
       "Worker's Comp Supervisor 1                          108753.39     14  \n",
       "Worker's Compensation Adjuster                      104213.27     74  \n",
       "X-RAY LABORATORY AIDE                                79733.71     26  \n",
       "X-Ray Laboratory Aide                                98805.97    100  \n",
       "YOUTH COMMISSION ADVISOR, BOARD OF SUPERVISORS           0.00      1  \n",
       "Youth Comm Advisor                                   38332.02      4  \n",
       "ZOO CURATOR                                              0.00      1  \n",
       "\n",
       "[2159 rows x 4 columns]"
      ]
     },
     "execution_count": 72,
     "metadata": {},
     "output_type": "execute_result"
    }
   ],
   "source": [
    "salaries.groupby(\"JobTitle\",as_index=False)[\"TotalPay\"].agg([\"min\",\"max\",lambda x : x.max()-x.min(),\"count\"])"
   ]
  },
  {
   "cell_type": "code",
   "execution_count": 73,
   "metadata": {},
   "outputs": [
    {
     "data": {
      "text/html": [
       "<div>\n",
       "<style scoped>\n",
       "    .dataframe tbody tr th:only-of-type {\n",
       "        vertical-align: middle;\n",
       "    }\n",
       "\n",
       "    .dataframe tbody tr th {\n",
       "        vertical-align: top;\n",
       "    }\n",
       "\n",
       "    .dataframe thead th {\n",
       "        text-align: right;\n",
       "    }\n",
       "</style>\n",
       "<table border=\"1\" class=\"dataframe\">\n",
       "  <thead>\n",
       "    <tr style=\"text-align: right;\">\n",
       "      <th></th>\n",
       "      <th>TotalPay</th>\n",
       "      <th>TotalPayBenefits</th>\n",
       "    </tr>\n",
       "    <tr>\n",
       "      <th>JobTitle</th>\n",
       "      <th></th>\n",
       "      <th></th>\n",
       "    </tr>\n",
       "  </thead>\n",
       "  <tbody>\n",
       "    <tr>\n",
       "      <th>ACCOUNT CLERK</th>\n",
       "      <td>44035.664337</td>\n",
       "      <td>1.734685e+08</td>\n",
       "    </tr>\n",
       "    <tr>\n",
       "      <th>ACCOUNTANT</th>\n",
       "      <td>47429.268000</td>\n",
       "      <td>7.364348e+08</td>\n",
       "    </tr>\n",
       "    <tr>\n",
       "      <th>ACCOUNTANT INTERN</th>\n",
       "      <td>29031.742917</td>\n",
       "      <td>4.289589e+08</td>\n",
       "    </tr>\n",
       "    <tr>\n",
       "      <th>ACPO,JuvP, Juv Prob (SFERS)</th>\n",
       "      <td>62290.780000</td>\n",
       "      <td>NaN</td>\n",
       "    </tr>\n",
       "    <tr>\n",
       "      <th>ACUPUNCTURIST</th>\n",
       "      <td>67594.400000</td>\n",
       "      <td>NaN</td>\n",
       "    </tr>\n",
       "    <tr>\n",
       "      <th>ADMINISTRATIVE ANALYST</th>\n",
       "      <td>63954.867527</td>\n",
       "      <td>3.464697e+08</td>\n",
       "    </tr>\n",
       "    <tr>\n",
       "      <th>ADMINISTRATIVE ANALYST II</th>\n",
       "      <td>61497.035000</td>\n",
       "      <td>3.969877e+08</td>\n",
       "    </tr>\n",
       "    <tr>\n",
       "      <th>ADMINISTRATIVE ANALYST III</th>\n",
       "      <td>92698.515000</td>\n",
       "      <td>4.409559e+04</td>\n",
       "    </tr>\n",
       "    <tr>\n",
       "      <th>ADMINISTRATIVE ENGINEER</th>\n",
       "      <td>127961.430000</td>\n",
       "      <td>2.247923e+08</td>\n",
       "    </tr>\n",
       "    <tr>\n",
       "      <th>ADMINISTRATIVE SERVICES MANAGER</th>\n",
       "      <td>77015.580000</td>\n",
       "      <td>4.013427e+08</td>\n",
       "    </tr>\n",
       "    <tr>\n",
       "      <th>ADMINISTRATOR, SFGH MEDICAL CENTER</th>\n",
       "      <td>257124.440000</td>\n",
       "      <td>NaN</td>\n",
       "    </tr>\n",
       "    <tr>\n",
       "      <th>AFFIRMATIVE ACTION SPECIALIST</th>\n",
       "      <td>68213.983333</td>\n",
       "      <td>7.100522e+08</td>\n",
       "    </tr>\n",
       "    <tr>\n",
       "      <th>AGRICULTURAL INSPECTOR</th>\n",
       "      <td>53586.100000</td>\n",
       "      <td>4.605120e+07</td>\n",
       "    </tr>\n",
       "    <tr>\n",
       "      <th>AIRPORT ASSISTANT DEPUTY DIRECTOR, BUSINESS ADMINI</th>\n",
       "      <td>1927.500000</td>\n",
       "      <td>NaN</td>\n",
       "    </tr>\n",
       "    <tr>\n",
       "      <th>AIRPORT ASSISTANT DEPUTY DIRECTOR, OPERATIONS</th>\n",
       "      <td>15420.000000</td>\n",
       "      <td>NaN</td>\n",
       "    </tr>\n",
       "    <tr>\n",
       "      <th>AIRPORT COMMUNICATIONS OPERATOR</th>\n",
       "      <td>81214.809630</td>\n",
       "      <td>2.957811e+08</td>\n",
       "    </tr>\n",
       "    <tr>\n",
       "      <th>AIRPORT COMMUNICATIONS SUPERVISOR</th>\n",
       "      <td>88180.000000</td>\n",
       "      <td>1.844188e+05</td>\n",
       "    </tr>\n",
       "    <tr>\n",
       "      <th>AIRPORT ECONOMIC PLANNER</th>\n",
       "      <td>108264.821538</td>\n",
       "      <td>1.605008e+07</td>\n",
       "    </tr>\n",
       "    <tr>\n",
       "      <th>AIRPORT ELECTRICIAN</th>\n",
       "      <td>108707.828235</td>\n",
       "      <td>3.775318e+07</td>\n",
       "    </tr>\n",
       "    <tr>\n",
       "      <th>AIRPORT ELECTRICIAN SUPERVISOR</th>\n",
       "      <td>117088.760000</td>\n",
       "      <td>4.479863e+06</td>\n",
       "    </tr>\n",
       "    <tr>\n",
       "      <th>AIRPORT EMERGENCY PLANNING COORDINATOR</th>\n",
       "      <td>75865.935000</td>\n",
       "      <td>2.770778e+08</td>\n",
       "    </tr>\n",
       "    <tr>\n",
       "      <th>AIRPORT MECHANICAL MAINTENANCE SUPERVISOR</th>\n",
       "      <td>128534.170000</td>\n",
       "      <td>NaN</td>\n",
       "    </tr>\n",
       "    <tr>\n",
       "      <th>AIRPORT NOISE ABATEMENT SPECIALIST</th>\n",
       "      <td>49497.225000</td>\n",
       "      <td>3.452995e+08</td>\n",
       "    </tr>\n",
       "    <tr>\n",
       "      <th>AIRPORT OPERATIONS SUPERVISOR</th>\n",
       "      <td>94913.980000</td>\n",
       "      <td>9.299114e+07</td>\n",
       "    </tr>\n",
       "    <tr>\n",
       "      <th>AIRPORT POLICE SERVICES AIDE</th>\n",
       "      <td>60129.931283</td>\n",
       "      <td>2.489824e+08</td>\n",
       "    </tr>\n",
       "    <tr>\n",
       "      <th>AIRPORT PROPERTY SPECIALIST I</th>\n",
       "      <td>77681.843077</td>\n",
       "      <td>5.636421e+08</td>\n",
       "    </tr>\n",
       "    <tr>\n",
       "      <th>AIRPORT SAFETY OFFICER</th>\n",
       "      <td>74599.264250</td>\n",
       "      <td>5.454049e+08</td>\n",
       "    </tr>\n",
       "    <tr>\n",
       "      <th>ANESTHETIST</th>\n",
       "      <td>112265.260400</td>\n",
       "      <td>8.195004e+09</td>\n",
       "    </tr>\n",
       "    <tr>\n",
       "      <th>ANIMAL CARE ASSISTANT SUPERVISOR</th>\n",
       "      <td>56298.620000</td>\n",
       "      <td>NaN</td>\n",
       "    </tr>\n",
       "    <tr>\n",
       "      <th>ANIMAL CARE ATTENDANT</th>\n",
       "      <td>43780.723571</td>\n",
       "      <td>3.135672e+08</td>\n",
       "    </tr>\n",
       "    <tr>\n",
       "      <th>...</th>\n",
       "      <td>...</td>\n",
       "      <td>...</td>\n",
       "    </tr>\n",
       "    <tr>\n",
       "      <th>Wastewater Control Inspector</th>\n",
       "      <td>77623.145000</td>\n",
       "      <td>2.236264e+09</td>\n",
       "    </tr>\n",
       "    <tr>\n",
       "      <th>Water &amp; Power Maint Sprv 1</th>\n",
       "      <td>105269.957778</td>\n",
       "      <td>1.108256e+08</td>\n",
       "    </tr>\n",
       "    <tr>\n",
       "      <th>Water Conservation Admin</th>\n",
       "      <td>114135.847500</td>\n",
       "      <td>9.593903e+07</td>\n",
       "    </tr>\n",
       "    <tr>\n",
       "      <th>Water Const&amp;Main Supt</th>\n",
       "      <td>158483.882000</td>\n",
       "      <td>1.947846e+09</td>\n",
       "    </tr>\n",
       "    <tr>\n",
       "      <th>Water Meter Repairer</th>\n",
       "      <td>67570.385000</td>\n",
       "      <td>5.536581e+08</td>\n",
       "    </tr>\n",
       "    <tr>\n",
       "      <th>Water Meter Shop Supervisor 1</th>\n",
       "      <td>74450.515000</td>\n",
       "      <td>5.253603e+08</td>\n",
       "    </tr>\n",
       "    <tr>\n",
       "      <th>Water Operations Analyst</th>\n",
       "      <td>101959.531429</td>\n",
       "      <td>2.986133e+09</td>\n",
       "    </tr>\n",
       "    <tr>\n",
       "      <th>Water Quality Tech III</th>\n",
       "      <td>71059.390833</td>\n",
       "      <td>1.192777e+09</td>\n",
       "    </tr>\n",
       "    <tr>\n",
       "      <th>Water Quality Technician</th>\n",
       "      <td>68884.900938</td>\n",
       "      <td>8.905413e+08</td>\n",
       "    </tr>\n",
       "    <tr>\n",
       "      <th>Water QualityTech I/II</th>\n",
       "      <td>65582.631014</td>\n",
       "      <td>9.882334e+08</td>\n",
       "    </tr>\n",
       "    <tr>\n",
       "      <th>Water Service Inspector</th>\n",
       "      <td>91043.082073</td>\n",
       "      <td>9.197323e+08</td>\n",
       "    </tr>\n",
       "    <tr>\n",
       "      <th>Watershed Forester</th>\n",
       "      <td>100079.838333</td>\n",
       "      <td>4.520414e+07</td>\n",
       "    </tr>\n",
       "    <tr>\n",
       "      <th>Watershed Keeper</th>\n",
       "      <td>67749.905789</td>\n",
       "      <td>3.033335e+08</td>\n",
       "    </tr>\n",
       "    <tr>\n",
       "      <th>Watershed Keeper Supervisor</th>\n",
       "      <td>84350.591250</td>\n",
       "      <td>2.950280e+07</td>\n",
       "    </tr>\n",
       "    <tr>\n",
       "      <th>Watershed Worker (Seasonal)</th>\n",
       "      <td>10043.225814</td>\n",
       "      <td>1.646885e+07</td>\n",
       "    </tr>\n",
       "    <tr>\n",
       "      <th>Welder</th>\n",
       "      <td>89775.161316</td>\n",
       "      <td>2.969070e+09</td>\n",
       "    </tr>\n",
       "    <tr>\n",
       "      <th>Welfare Fraud Investigator</th>\n",
       "      <td>87780.635000</td>\n",
       "      <td>8.380190e+08</td>\n",
       "    </tr>\n",
       "    <tr>\n",
       "      <th>Wharfinger 1</th>\n",
       "      <td>53030.776667</td>\n",
       "      <td>1.168200e+09</td>\n",
       "    </tr>\n",
       "    <tr>\n",
       "      <th>Wharfinger 2</th>\n",
       "      <td>75105.602000</td>\n",
       "      <td>4.490601e+08</td>\n",
       "    </tr>\n",
       "    <tr>\n",
       "      <th>Window Cleaner</th>\n",
       "      <td>67670.063600</td>\n",
       "      <td>4.253681e+08</td>\n",
       "    </tr>\n",
       "    <tr>\n",
       "      <th>Window Cleaner Supervisor</th>\n",
       "      <td>77512.493333</td>\n",
       "      <td>6.066514e+06</td>\n",
       "    </tr>\n",
       "    <tr>\n",
       "      <th>Wire Rope Cable Maint Mechanic</th>\n",
       "      <td>112211.526000</td>\n",
       "      <td>5.035597e+09</td>\n",
       "    </tr>\n",
       "    <tr>\n",
       "      <th>Wire Rope Cable Maint Sprv</th>\n",
       "      <td>203033.720000</td>\n",
       "      <td>5.160631e+08</td>\n",
       "    </tr>\n",
       "    <tr>\n",
       "      <th>Worker's Comp Supervisor 1</th>\n",
       "      <td>70389.297143</td>\n",
       "      <td>2.709726e+09</td>\n",
       "    </tr>\n",
       "    <tr>\n",
       "      <th>Worker's Compensation Adjuster</th>\n",
       "      <td>73249.269865</td>\n",
       "      <td>8.324032e+08</td>\n",
       "    </tr>\n",
       "    <tr>\n",
       "      <th>X-RAY LABORATORY AIDE</th>\n",
       "      <td>52705.880385</td>\n",
       "      <td>3.904949e+08</td>\n",
       "    </tr>\n",
       "    <tr>\n",
       "      <th>X-Ray Laboratory Aide</th>\n",
       "      <td>50823.942700</td>\n",
       "      <td>1.277887e+09</td>\n",
       "    </tr>\n",
       "    <tr>\n",
       "      <th>YOUTH COMMISSION ADVISOR, BOARD OF SUPERVISORS</th>\n",
       "      <td>53632.870000</td>\n",
       "      <td>NaN</td>\n",
       "    </tr>\n",
       "    <tr>\n",
       "      <th>Youth Comm Advisor</th>\n",
       "      <td>41414.307500</td>\n",
       "      <td>7.568270e+08</td>\n",
       "    </tr>\n",
       "    <tr>\n",
       "      <th>ZOO CURATOR</th>\n",
       "      <td>66686.560000</td>\n",
       "      <td>NaN</td>\n",
       "    </tr>\n",
       "  </tbody>\n",
       "</table>\n",
       "<p>2159 rows × 2 columns</p>\n",
       "</div>"
      ],
      "text/plain": [
       "                                                         TotalPay  \\\n",
       "JobTitle                                                            \n",
       "ACCOUNT CLERK                                        44035.664337   \n",
       "ACCOUNTANT                                           47429.268000   \n",
       "ACCOUNTANT INTERN                                    29031.742917   \n",
       "ACPO,JuvP, Juv Prob (SFERS)                          62290.780000   \n",
       "ACUPUNCTURIST                                        67594.400000   \n",
       "ADMINISTRATIVE ANALYST                               63954.867527   \n",
       "ADMINISTRATIVE ANALYST II                            61497.035000   \n",
       "ADMINISTRATIVE ANALYST III                           92698.515000   \n",
       "ADMINISTRATIVE ENGINEER                             127961.430000   \n",
       "ADMINISTRATIVE SERVICES MANAGER                      77015.580000   \n",
       "ADMINISTRATOR, SFGH MEDICAL CENTER                  257124.440000   \n",
       "AFFIRMATIVE ACTION SPECIALIST                        68213.983333   \n",
       "AGRICULTURAL INSPECTOR                               53586.100000   \n",
       "AIRPORT ASSISTANT DEPUTY DIRECTOR, BUSINESS ADMINI    1927.500000   \n",
       "AIRPORT ASSISTANT DEPUTY DIRECTOR, OPERATIONS        15420.000000   \n",
       "AIRPORT COMMUNICATIONS OPERATOR                      81214.809630   \n",
       "AIRPORT COMMUNICATIONS SUPERVISOR                    88180.000000   \n",
       "AIRPORT ECONOMIC PLANNER                            108264.821538   \n",
       "AIRPORT ELECTRICIAN                                 108707.828235   \n",
       "AIRPORT ELECTRICIAN SUPERVISOR                      117088.760000   \n",
       "AIRPORT EMERGENCY PLANNING COORDINATOR               75865.935000   \n",
       "AIRPORT MECHANICAL MAINTENANCE SUPERVISOR           128534.170000   \n",
       "AIRPORT NOISE ABATEMENT SPECIALIST                   49497.225000   \n",
       "AIRPORT OPERATIONS SUPERVISOR                        94913.980000   \n",
       "AIRPORT POLICE SERVICES AIDE                         60129.931283   \n",
       "AIRPORT PROPERTY SPECIALIST I                        77681.843077   \n",
       "AIRPORT SAFETY OFFICER                               74599.264250   \n",
       "ANESTHETIST                                         112265.260400   \n",
       "ANIMAL CARE ASSISTANT SUPERVISOR                     56298.620000   \n",
       "ANIMAL CARE ATTENDANT                                43780.723571   \n",
       "...                                                           ...   \n",
       "Wastewater Control Inspector                         77623.145000   \n",
       "Water & Power Maint Sprv 1                          105269.957778   \n",
       "Water Conservation Admin                            114135.847500   \n",
       "Water Const&Main Supt                               158483.882000   \n",
       "Water Meter Repairer                                 67570.385000   \n",
       "Water Meter Shop Supervisor 1                        74450.515000   \n",
       "Water Operations Analyst                            101959.531429   \n",
       "Water Quality Tech III                               71059.390833   \n",
       "Water Quality Technician                             68884.900938   \n",
       "Water QualityTech I/II                               65582.631014   \n",
       "Water Service Inspector                              91043.082073   \n",
       "Watershed Forester                                  100079.838333   \n",
       "Watershed Keeper                                     67749.905789   \n",
       "Watershed Keeper Supervisor                          84350.591250   \n",
       "Watershed Worker (Seasonal)                          10043.225814   \n",
       "Welder                                               89775.161316   \n",
       "Welfare Fraud Investigator                           87780.635000   \n",
       "Wharfinger 1                                         53030.776667   \n",
       "Wharfinger 2                                         75105.602000   \n",
       "Window Cleaner                                       67670.063600   \n",
       "Window Cleaner Supervisor                            77512.493333   \n",
       "Wire Rope Cable Maint Mechanic                      112211.526000   \n",
       "Wire Rope Cable Maint Sprv                          203033.720000   \n",
       "Worker's Comp Supervisor 1                           70389.297143   \n",
       "Worker's Compensation Adjuster                       73249.269865   \n",
       "X-RAY LABORATORY AIDE                                52705.880385   \n",
       "X-Ray Laboratory Aide                                50823.942700   \n",
       "YOUTH COMMISSION ADVISOR, BOARD OF SUPERVISORS       53632.870000   \n",
       "Youth Comm Advisor                                   41414.307500   \n",
       "ZOO CURATOR                                          66686.560000   \n",
       "\n",
       "                                                    TotalPayBenefits  \n",
       "JobTitle                                                              \n",
       "ACCOUNT CLERK                                           1.734685e+08  \n",
       "ACCOUNTANT                                              7.364348e+08  \n",
       "ACCOUNTANT INTERN                                       4.289589e+08  \n",
       "ACPO,JuvP, Juv Prob (SFERS)                                      NaN  \n",
       "ACUPUNCTURIST                                                    NaN  \n",
       "ADMINISTRATIVE ANALYST                                  3.464697e+08  \n",
       "ADMINISTRATIVE ANALYST II                               3.969877e+08  \n",
       "ADMINISTRATIVE ANALYST III                              4.409559e+04  \n",
       "ADMINISTRATIVE ENGINEER                                 2.247923e+08  \n",
       "ADMINISTRATIVE SERVICES MANAGER                         4.013427e+08  \n",
       "ADMINISTRATOR, SFGH MEDICAL CENTER                               NaN  \n",
       "AFFIRMATIVE ACTION SPECIALIST                           7.100522e+08  \n",
       "AGRICULTURAL INSPECTOR                                  4.605120e+07  \n",
       "AIRPORT ASSISTANT DEPUTY DIRECTOR, BUSINESS ADMINI               NaN  \n",
       "AIRPORT ASSISTANT DEPUTY DIRECTOR, OPERATIONS                    NaN  \n",
       "AIRPORT COMMUNICATIONS OPERATOR                         2.957811e+08  \n",
       "AIRPORT COMMUNICATIONS SUPERVISOR                       1.844188e+05  \n",
       "AIRPORT ECONOMIC PLANNER                                1.605008e+07  \n",
       "AIRPORT ELECTRICIAN                                     3.775318e+07  \n",
       "AIRPORT ELECTRICIAN SUPERVISOR                          4.479863e+06  \n",
       "AIRPORT EMERGENCY PLANNING COORDINATOR                  2.770778e+08  \n",
       "AIRPORT MECHANICAL MAINTENANCE SUPERVISOR                        NaN  \n",
       "AIRPORT NOISE ABATEMENT SPECIALIST                      3.452995e+08  \n",
       "AIRPORT OPERATIONS SUPERVISOR                           9.299114e+07  \n",
       "AIRPORT POLICE SERVICES AIDE                            2.489824e+08  \n",
       "AIRPORT PROPERTY SPECIALIST I                           5.636421e+08  \n",
       "AIRPORT SAFETY OFFICER                                  5.454049e+08  \n",
       "ANESTHETIST                                             8.195004e+09  \n",
       "ANIMAL CARE ASSISTANT SUPERVISOR                                 NaN  \n",
       "ANIMAL CARE ATTENDANT                                   3.135672e+08  \n",
       "...                                                              ...  \n",
       "Wastewater Control Inspector                            2.236264e+09  \n",
       "Water & Power Maint Sprv 1                              1.108256e+08  \n",
       "Water Conservation Admin                                9.593903e+07  \n",
       "Water Const&Main Supt                                   1.947846e+09  \n",
       "Water Meter Repairer                                    5.536581e+08  \n",
       "Water Meter Shop Supervisor 1                           5.253603e+08  \n",
       "Water Operations Analyst                                2.986133e+09  \n",
       "Water Quality Tech III                                  1.192777e+09  \n",
       "Water Quality Technician                                8.905413e+08  \n",
       "Water QualityTech I/II                                  9.882334e+08  \n",
       "Water Service Inspector                                 9.197323e+08  \n",
       "Watershed Forester                                      4.520414e+07  \n",
       "Watershed Keeper                                        3.033335e+08  \n",
       "Watershed Keeper Supervisor                             2.950280e+07  \n",
       "Watershed Worker (Seasonal)                             1.646885e+07  \n",
       "Welder                                                  2.969070e+09  \n",
       "Welfare Fraud Investigator                              8.380190e+08  \n",
       "Wharfinger 1                                            1.168200e+09  \n",
       "Wharfinger 2                                            4.490601e+08  \n",
       "Window Cleaner                                          4.253681e+08  \n",
       "Window Cleaner Supervisor                               6.066514e+06  \n",
       "Wire Rope Cable Maint Mechanic                          5.035597e+09  \n",
       "Wire Rope Cable Maint Sprv                              5.160631e+08  \n",
       "Worker's Comp Supervisor 1                              2.709726e+09  \n",
       "Worker's Compensation Adjuster                          8.324032e+08  \n",
       "X-RAY LABORATORY AIDE                                   3.904949e+08  \n",
       "X-Ray Laboratory Aide                                   1.277887e+09  \n",
       "YOUTH COMMISSION ADVISOR, BOARD OF SUPERVISORS                   NaN  \n",
       "Youth Comm Advisor                                      7.568270e+08  \n",
       "ZOO CURATOR                                                      NaN  \n",
       "\n",
       "[2159 rows x 2 columns]"
      ]
     },
     "execution_count": 73,
     "metadata": {},
     "output_type": "execute_result"
    }
   ],
   "source": [
    "salaries.groupby(\"JobTitle\")[[\"TotalPay\",\n",
    "                            \"TotalPayBenefits\"]].agg({\"TotalPay\":\"mean\",\n",
    "                                                    \"TotalPayBenefits\":\"var\"})"
   ]
  }
 ],
 "metadata": {
  "celltoolbar": "Slideshow",
  "kernelspec": {
   "display_name": "Python 3",
   "language": "python",
   "name": "python3"
  },
  "language_info": {
   "codemirror_mode": {
    "name": "ipython",
    "version": 3
   },
   "file_extension": ".py",
   "mimetype": "text/x-python",
   "name": "python",
   "nbconvert_exporter": "python",
   "pygments_lexer": "ipython3",
   "version": "3.6.8"
  }
 },
 "nbformat": 4,
 "nbformat_minor": 2
}
